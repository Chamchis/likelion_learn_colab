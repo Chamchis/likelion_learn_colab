{
  "nbformat": 4,
  "nbformat_minor": 0,
  "metadata": {
    "colab": {
      "provenance": [],
      "authorship_tag": "ABX9TyPRpyprgejXwQlwcj22vSWV",
      "include_colab_link": true
    },
    "kernelspec": {
      "name": "python3",
      "display_name": "Python 3"
    },
    "language_info": {
      "name": "python"
    }
  },
  "cells": [
    {
      "cell_type": "markdown",
      "metadata": {
        "id": "view-in-github",
        "colab_type": "text"
      },
      "source": [
        "<a href=\"https://colab.research.google.com/github/Chamchis/test/blob/main/KJH_day5.ipynb\" target=\"_parent\"><img src=\"https://colab.research.google.com/assets/colab-badge.svg\" alt=\"Open In Colab\"/></a>"
      ]
    },
    {
      "cell_type": "code",
      "source": [
        "from google.colab import drive\n",
        "drive.mount('/content/drive')"
      ],
      "metadata": {
        "colab": {
          "base_uri": "https://localhost:8080/"
        },
        "id": "ZXYrGTFiTNd2",
        "outputId": "35b8c6f6-ebf6-405c-f67d-780358868339"
      },
      "execution_count": 1,
      "outputs": [
        {
          "output_type": "stream",
          "name": "stdout",
          "text": [
            "Mounted at /content/drive\n"
          ]
        }
      ]
    },
    {
      "cell_type": "code",
      "source": [
        "# file_reader.py\n",
        "\n",
        "def read_file(path):\n",
        "  try:\n",
        "    with open(path,'r') as f:\n",
        "      print(f.read())\n",
        "  except FileNotFoundError:\n",
        "    print('파일을 읽을 수 없습니다 ! ')"
      ],
      "metadata": {
        "id": "jWOSASzMTV5c"
      },
      "execution_count": 15,
      "outputs": []
    },
    {
      "cell_type": "code",
      "source": [
        "read_file('test.txt')"
      ],
      "metadata": {
        "colab": {
          "base_uri": "https://localhost:8080/"
        },
        "id": "K8kx9FhGVBl6",
        "outputId": "043848a9-33b9-41ed-94f8-89f9d02e9e2c"
      },
      "execution_count": 4,
      "outputs": [
        {
          "output_type": "stream",
          "name": "stdout",
          "text": [
            "안녕하세요\n"
          ]
        }
      ]
    },
    {
      "cell_type": "code",
      "source": [
        "read_file('docs/test1.txt')"
      ],
      "metadata": {
        "colab": {
          "base_uri": "https://localhost:8080/"
        },
        "id": "amytn9TnVLuU",
        "outputId": "df03f048-c04a-4db7-dc15-bfeb48bd9782"
      },
      "execution_count": 10,
      "outputs": [
        {
          "output_type": "stream",
          "name": "stdout",
          "text": [
            "PLVS VLTRA\n"
          ]
        }
      ]
    },
    {
      "cell_type": "code",
      "source": [
        "read_file('/docs/test1.txt') # / 경로는 파일의 최상위 시스템을 말한다"
      ],
      "metadata": {
        "colab": {
          "base_uri": "https://localhost:8080/"
        },
        "id": "t6j0bn3-Vj5I",
        "outputId": "ea3a0dad-f9d2-40ed-ab49-b740d55ab4e2"
      },
      "execution_count": 14,
      "outputs": [
        {
          "output_type": "stream",
          "name": "stdout",
          "text": [
            "파일을 읽을 수 없습니다 ! \n"
          ]
        }
      ]
    },
    {
      "cell_type": "code",
      "source": [
        "# 외부에 file_reader.py 생성 -> 모듈\n",
        "\n",
        "def read_file_out(path):\n",
        "  try:\n",
        "    with open(path,'r') as f:\n",
        "      print(\"모듈에 있는 함수\")\n",
        "      print(f.read())\n",
        "  except FileNotFoundError:\n",
        "    print('파일을 읽을 수 없습니다 ! ')"
      ],
      "metadata": {
        "id": "Frocl-EaWYyB"
      },
      "execution_count": 23,
      "outputs": []
    },
    {
      "cell_type": "code",
      "source": [
        "import file_reader"
      ],
      "metadata": {
        "id": "zX_Fa89QXImf"
      },
      "execution_count": 28,
      "outputs": []
    },
    {
      "cell_type": "code",
      "source": [
        "file_reader.read_file_out('test.txt')"
      ],
      "metadata": {
        "colab": {
          "base_uri": "https://localhost:8080/",
          "height": 141
        },
        "id": "eRlLiEf6XLnm",
        "outputId": "156842e5-fa57-4985-932c-60421ff336e4"
      },
      "execution_count": 30,
      "outputs": [
        {
          "output_type": "error",
          "ename": "AttributeError",
          "evalue": "module 'file_reader' has no attribute 'read_file_out'",
          "traceback": [
            "\u001b[0;31m---------------------------------------------------------------------------\u001b[0m",
            "\u001b[0;31mAttributeError\u001b[0m                            Traceback (most recent call last)",
            "\u001b[0;32m<ipython-input-30-1a8f07398535>\u001b[0m in \u001b[0;36m<cell line: 1>\u001b[0;34m()\u001b[0m\n\u001b[0;32m----> 1\u001b[0;31m \u001b[0mfile_reader\u001b[0m\u001b[0;34m.\u001b[0m\u001b[0mread_file_out\u001b[0m\u001b[0;34m(\u001b[0m\u001b[0;34m'test.txt'\u001b[0m\u001b[0;34m)\u001b[0m\u001b[0;34m\u001b[0m\u001b[0;34m\u001b[0m\u001b[0m\n\u001b[0m",
            "\u001b[0;31mAttributeError\u001b[0m: module 'file_reader' has no attribute 'read_file_out'"
          ]
        }
      ]
    },
    {
      "cell_type": "code",
      "source": [
        "# 외부에 file_reader.py 생성 -> 모\n",
        "\"\"\"\n",
        "내용은 아래와 같이\n",
        "def read_file_out(path):\n",
        "  try:\n",
        "    with open(path, 'r') as f:\n",
        "      print(\"모듈에 있는 함수\")\n",
        "      print(f.read())\n",
        "  except FileNotFoundError:\n",
        "    print(\"파일을 읽을 수 없습니다!\")\n",
        "    \"\"\""
      ],
      "metadata": {
        "colab": {
          "base_uri": "https://localhost:8080/",
          "height": 52
        },
        "id": "Bu0Tc_fGXjHW",
        "outputId": "4c45e582-b9ae-4f68-afe9-a46fd1810000"
      },
      "execution_count": 25,
      "outputs": [
        {
          "output_type": "execute_result",
          "data": {
            "text/plain": [
              "'\\n내용은 아래와 같이\\ndef read_file_out(path):\\n  try:\\n    with open(path, \\'r\\') as f:\\n      print(\"모듈에 있는 함수\")\\n      print(f.read())\\n  except FileNotFoundError:\\n    print(\"파일을 읽을 수 없습니다!\")\\n    '"
            ],
            "application/vnd.google.colaboratory.intrinsic+json": {
              "type": "string"
            }
          },
          "metadata": {},
          "execution_count": 25
        }
      ]
    },
    {
      "cell_type": "code",
      "source": [
        "# file_reader.py\n",
        "\n",
        "def read_file(path):\n",
        "  try:\n",
        "    with open(path, 'r') as f:\n",
        "      print(f.read())\n",
        "  except FileNotFoundError:\n",
        "    print(\"파일을 읽을 수 없습니다!\")"
      ],
      "metadata": {
        "id": "csmyj5wyXui0"
      },
      "execution_count": 27,
      "outputs": []
    },
    {
      "cell_type": "code",
      "source": [
        "from data_processor import reader,writer"
      ],
      "metadata": {
        "id": "UyiUkqLQYkrx"
      },
      "execution_count": 1,
      "outputs": []
    },
    {
      "cell_type": "code",
      "source": [
        "writer"
      ],
      "metadata": {
        "colab": {
          "base_uri": "https://localhost:8080/"
        },
        "id": "6DKGyWYcmNo3",
        "outputId": "c86367fe-04f5-4ddc-c435-4af474556f3b"
      },
      "execution_count": 34,
      "outputs": [
        {
          "output_type": "execute_result",
          "data": {
            "text/plain": [
              "<module 'data_processor.writer' from '/content/data_processor/writer.py'>"
            ]
          },
          "metadata": {},
          "execution_count": 34
        }
      ]
    },
    {
      "cell_type": "code",
      "source": [
        "reader.read_data('docs/test1.txt')"
      ],
      "metadata": {
        "colab": {
          "base_uri": "https://localhost:8080/",
          "height": 35
        },
        "id": "xFc1TOq0mtwR",
        "outputId": "f6a2e040-bc58-482e-a45c-a9d400ae97f7"
      },
      "execution_count": 40,
      "outputs": [
        {
          "output_type": "execute_result",
          "data": {
            "text/plain": [
              "'PLVS VLTRA'"
            ],
            "application/vnd.google.colaboratory.intrinsic+json": {
              "type": "string"
            }
          },
          "metadata": {},
          "execution_count": 40
        }
      ]
    },
    {
      "cell_type": "code",
      "source": [
        "data = reader.read_data('docs/test1.txt')\n",
        "writer.write_data(data,'docs/test1.txt')"
      ],
      "metadata": {
        "id": "NlCIlPqfm4U2"
      },
      "execution_count": 2,
      "outputs": []
    },
    {
      "cell_type": "code",
      "source": [
        "data"
      ],
      "metadata": {
        "colab": {
          "base_uri": "https://localhost:8080/",
          "height": 35
        },
        "id": "b7q6kj0UnZBp",
        "outputId": "1bacf0b5-74e0-4800-9c9c-078e96499c81"
      },
      "execution_count": 3,
      "outputs": [
        {
          "output_type": "execute_result",
          "data": {
            "text/plain": [
              "'PLVS VLTRA'"
            ],
            "application/vnd.google.colaboratory.intrinsic+json": {
              "type": "string"
            }
          },
          "metadata": {},
          "execution_count": 3
        }
      ]
    },
    {
      "cell_type": "code",
      "source": [
        "# __init__.py 파일의 의미, 필요성을 정리\n",
        "# 공통으로 사용할 변수, 함수를 정의하기도 하고 패키지의 초기화에 관여한다\n",
        "# 필수는 아니다 -> 패키지 폴더 만들고 안에 모듈을 넣어서 활용도 가능하다."
      ],
      "metadata": {
        "id": "kJXOEdrcx4jm"
      },
      "execution_count": null,
      "outputs": []
    },
    {
      "cell_type": "markdown",
      "source": [
        "### 패키지 연습"
      ],
      "metadata": {
        "id": "O2Jurq931jdI"
      }
    },
    {
      "cell_type": "code",
      "source": [
        "menu = {\n",
        "    '아메리카노': {'가격': format(1500, ','), 'option': {'아이스', '핫'}},\n",
        "    '에스프레소': {'가격': format(2000, ','), 'option': {'아이스', '핫'}},\n",
        "    '라떼': {'가격': format(2500, ','), 'option': {'아이스', '핫'}},\n",
        "    '딸기 쉐이크': {'가격': format(3000, ','), 'option': {'아이스', '핫'}},\n",
        "    '바닐라 스무디': {'가격': format(3500, ','), 'option': {'아이스', '핫'}}\n",
        "}\n",
        "\n",
        "def coffee_shop():\n",
        "    print('=' * 100)\n",
        "    print('사자 카페입니다. 반갑습니다!')\n",
        "    print(f'저희 가게 메뉴입니다: {list(menu.keys())}')\n",
        "    while True:\n",
        "        order = input(\"원하시는 메뉴를 선택해주세요(q를 누르면 종료) : \")\n",
        "        if order in menu:\n",
        "            print(f'선택하신 메뉴는 {order}입니다.')\n",
        "            while True:\n",
        "                option = input('아이스로 드릴까요? 핫으로 드릴까요? : ')\n",
        "                if option in menu[order]['option']:\n",
        "                    while True:\n",
        "                        order_count = input('원하시는 수량을 숫자로 선택해주세요 : ')\n",
        "                        if order_count.isdigit(): # 입력값이 숫자인지 확인 ,구글검색하였습니다\n",
        "                            order_count = int(order_count)\n",
        "                            print('=' * 100)\n",
        "                            print(f'주문 내역 : {order}({option}), 수량 : {order_count}')\n",
        "                            print(f'가격 : {menu[order][\"가격\"]}원')\n",
        "                            print('=' * 100)\n",
        "                            break\n",
        "                        else:\n",
        "                            print('올바른 수량을 입력해주세요!')\n",
        "                    break\n",
        "                else:\n",
        "                    print('올바른 옵션을 선택해주세요.')\n",
        "            while True:\n",
        "                cash = input('결제 방식을 선택해주세요. [카드, 현금, 삼성페이, 애플페이] : ')\n",
        "                if cash in ['카드', '현금', '삼성페이', '애플페이']:\n",
        "                    break\n",
        "                else:\n",
        "                    print('다시 선택해주세요.')\n",
        "            finish = input('주문을 마치시겠습니까? (예/아니오) : ')\n",
        "            if finish == '예':\n",
        "                print('주문이 완료되었습니다. 감사합니다!')\n",
        "                break\n",
        "            else:\n",
        "                print('=' * 100)\n",
        "                print('새로운 주문을 진행합니다.')\n",
        "                continue\n",
        "        elif order == 'q':\n",
        "            break\n",
        "        else:\n",
        "            print('해당 메뉴는 존재하지 않습니다. 다시 선택해주세요.')\n",
        "\n",
        "\n",
        "coffee_shop()\n"
      ],
      "metadata": {
        "colab": {
          "base_uri": "https://localhost:8080/"
        },
        "id": "J831ltxj4Ada",
        "outputId": "c703dcb5-8960-4893-c792-f632391bd492"
      },
      "execution_count": 54,
      "outputs": [
        {
          "output_type": "stream",
          "name": "stdout",
          "text": [
            "====================================================================================================\n",
            "사자 카페입니다. 반갑습니다!\n",
            "저희 가게 메뉴입니다: ['아메리카노', '에스프레소', '라떼', '딸기 쉐이크', '바닐라 스무디']\n",
            "원하시는 메뉴를 선택해주세요(q를 누르면 종료) : 라떼\n",
            "선택하신 메뉴는 라떼입니다.\n",
            "아이스로 드릴까요? 핫으로 드릴까요? : 아이스\n",
            "원하시는 수량을 숫자로 선택해주세요 : 3\n",
            "====================================================================================================\n",
            "주문 내역 : 라떼(아이스), 수량 : 3\n",
            "가격 : 2,500원\n",
            "====================================================================================================\n",
            "결제 방식을 선택해주세요. [카드, 현금, 삼성페이, 애플페이] : 카드\n",
            "주문을 마치시겠습니까? (예/아니오) : 예\n",
            "주문이 완료되었습니다. 감사합니다!\n"
          ]
        }
      ]
    },
    {
      "cell_type": "code",
      "source": [
        "menu = {\n",
        "    '아메리카노': {'가격': format(1500, ','), 'option': {'아이스', '핫'}},\n",
        "    '에스프레소': {'가격': format(2000, ','), 'option': {'아이스', '핫'}},\n",
        "    '라떼': {'가격': format(2500, ','), 'option': {'아이스', '핫'}},\n",
        "    '딸기 쉐이크': {'가격': format(3000, ','), 'option': {'아이스', '핫'}},\n",
        "    '바닐라 스무디': {'가격': format(3500, ','), 'option': {'아이스', '핫'}}\n",
        "}\n",
        "\n",
        "def show_menu():\n",
        "    print('=' * 100)\n",
        "    print('사자 카페입니다. 반갑습니다!')\n",
        "    print(f'저희 가게 메뉴입니다: {list(menu.keys())}')\n",
        "\n",
        "def select_menu():\n",
        "    while True:\n",
        "        order = input(\"원하시는 메뉴를 선택해주세요(q를 누르면 종료) : \")\n",
        "        if order in menu:\n",
        "            print(f'선택하신 메뉴는 {order}입니다.')\n",
        "            return order\n",
        "        elif order == 'q':\n",
        "            return None\n",
        "        else:\n",
        "            print('해당 메뉴는 존재하지 않습니다. 다시 선택해주세요.')\n",
        "\n",
        "def select_option(order):\n",
        "    while True:\n",
        "        option = input('아이스로 드릴까요? 핫으로 드릴까요? : ')\n",
        "        if option in menu[order]['option']:\n",
        "            return option\n",
        "        else:\n",
        "            print('올바른 옵션을 선택해주세요.')\n",
        "\n",
        "def select_quantity():\n",
        "    while True:\n",
        "        order_count = input('원하시는 수량을 숫자로 선택해주세요 : ')\n",
        "        if order_count.isdigit():\n",
        "            return int(order_count)\n",
        "        else:\n",
        "            print('올바른 수량을 입력해주세요!')\n",
        "\n",
        "def print_order(order, option, order_count):\n",
        "    price = int(menu[order]['가격'].replace(',', ''))\n",
        "    total_price = price * order_count\n",
        "    formatted_price = format(price, ',')\n",
        "    formatted_total_price = format(total_price, ',')\n",
        "    print('=' * 100)\n",
        "    print(f'주문 내역 : {order}({option}), 수량 : {order_count}')\n",
        "    print(f'가격 : {formatted_price}원')\n",
        "    print(f'총 가격 : {formatted_total_price}원')\n",
        "    print('=' * 100)\n",
        "\n",
        "\n",
        "def select_payment_method():\n",
        "    while True:\n",
        "        cash = input('결제 방식을 선택해주세요. [카드, 현금, 삼성페이, 애플페이] : ')\n",
        "        if cash in ['카드', '현금', '삼성페이', '애플페이']:\n",
        "            return cash\n",
        "        else:\n",
        "            print('다시 선택해주세요.')\n",
        "\n",
        "def process_order():\n",
        "    show_menu()\n",
        "    while True:\n",
        "        order = select_menu()\n",
        "        if order is None:\n",
        "            break\n",
        "        option = select_option(order)\n",
        "        order_count = select_quantity()\n",
        "        print_order(order, option, order_count)\n",
        "        cash = select_payment_method()\n",
        "        finish = input('주문을 마치시겠습니까? (예/아니오) : ')\n",
        "        if finish == '예':\n",
        "            print('주문이 완료되었습니다. 감사합니다!')\n",
        "            break\n",
        "        else:\n",
        "            print('=' * 100)\n",
        "            print('새로운 주문을 진행합니다.')\n",
        "            continue\n",
        "\n",
        "process_order()\n"
      ],
      "metadata": {
        "colab": {
          "base_uri": "https://localhost:8080/"
        },
        "id": "1Y930ltPueSw",
        "outputId": "077afd75-aeac-4599-fb21-83738de33bae"
      },
      "execution_count": 59,
      "outputs": [
        {
          "output_type": "stream",
          "name": "stdout",
          "text": [
            "====================================================================================================\n",
            "사자 카페입니다. 반갑습니다!\n",
            "저희 가게 메뉴입니다: ['아메리카노', '에스프레소', '라떼', '딸기 쉐이크', '바닐라 스무디']\n",
            "원하시는 메뉴를 선택해주세요(q를 누르면 종료) : 바닐라 스무디\n",
            "선택하신 메뉴는 바닐라 스무디입니다.\n",
            "아이스로 드릴까요? 핫으로 드릴까요? : 아이스\n",
            "원하시는 수량을 숫자로 선택해주세요 : 12\n",
            "====================================================================================================\n",
            "주문 내역 : 바닐라 스무디(아이스), 수량 : 12\n",
            "가격 : 3,500원\n",
            "총 가격 : 42,000원\n",
            "====================================================================================================\n",
            "결제 방식을 선택해주세요. [카드, 현금, 삼성페이, 애플페이] : 애플페이\n",
            "주문을 마치시겠습니까? (예/아니오) : 예\n",
            "주문이 완료되었습니다. 감사합니다!\n"
          ]
        }
      ]
    },
    {
      "cell_type": "code",
      "source": [
        "menu = {\n",
        "    '아메리카노': {'가격': format(1500, ','), 'option': {'아이스', '핫'}},\n",
        "    '에스프레소': {'가격': format(2000, ','), 'option': {'아이스', '핫'}},\n",
        "    '라떼': {'가격': format(2500, ','), 'option': {'아이스', '핫'}},\n",
        "    '딸기 쉐이크': {'가격': format(3000, ','), 'option': {'아이스', '핫'}},\n",
        "    '바닐라 스무디': {'가격': format(3500, ','), 'option': {'아이스', '핫'}}\n",
        "}\n",
        "\n",
        "def coffee_shop():\n",
        "    print('=' * 100)\n",
        "    print('사자 카페입니다. 반갑습니다!')\n",
        "    print(f'저희 가게 메뉴입니다: {list(menu.keys())}')\n",
        "    while True:\n",
        "        order = input(\"원하시는 메뉴를 선택해주세요(q를 누르면 종료) : \")\n",
        "        if order in menu:\n",
        "            print(f'선택하신 메뉴는 {order}입니다.')\n",
        "            while True:\n",
        "                option = input('아이스로 드릴까요? 핫으로 드릴까요? : ')\n",
        "                if option in menu[order]['option']:\n",
        "                    while True:\n",
        "                        order_count = input('원하시는 수량을 숫자로 선택해주세요 : ')\n",
        "                        if order_count.isdigit(): # 입력값이 숫자인지 확인 ,구글검색하였습니다\n",
        "                            order_count = int(order_count)\n",
        "                            price = menu[order]['가격']\n",
        "                            total_price = order_count * int(price.replace(',', ''))\n",
        "                            print('=' * 100)\n",
        "                            print(f'주문 내역 : {order}({option}), 수량 : {order_count}')\n",
        "                            print(f'가격 :{format(total_price, \",\")}원')\n",
        "                            print('=' * 100)\n",
        "                            break\n",
        "                        else:\n",
        "                            print('올바른 수량을 입력해주세요!')\n",
        "                    break\n",
        "                else:\n",
        "                    print('올바른 옵션을 선택해주세요.')\n",
        "            while True:\n",
        "                cash = input('결제 방식을 선택해주세요. [카드, 현금, 삼성페이, 애플페이] : ')\n",
        "                if cash in ['카드', '현금', '삼성페이', '애플페이']:\n",
        "                    break\n",
        "                else:\n",
        "                    print('다시 선택해주세요.')\n",
        "            finish = input('주문을 마치시겠습니까? (예/아니오) : ')\n",
        "            if finish == '예':\n",
        "                print('주문이 완료되었습니다. 감사합니다!')\n",
        "                break\n",
        "            else:\n",
        "                print('=' * 100)\n",
        "                print('새로운 주문을 진행합니다.')\n",
        "                continue\n",
        "        elif order == 'q':\n",
        "            break\n",
        "        else:\n",
        "            print('해당 메뉴는 존재하지 않습니다. 다시 선택해주세요.')\n",
        "\n",
        "coffee_shop()\n"
      ],
      "metadata": {
        "colab": {
          "base_uri": "https://localhost:8080/"
        },
        "id": "A9N7-ciMuufV",
        "outputId": "403740ea-41d2-483a-9551-7531a8f3648a"
      },
      "execution_count": 62,
      "outputs": [
        {
          "output_type": "stream",
          "name": "stdout",
          "text": [
            "====================================================================================================\n",
            "사자 카페입니다. 반갑습니다!\n",
            "저희 가게 메뉴입니다: ['아메리카노', '에스프레소', '라떼', '딸기 쉐이크', '바닐라 스무디']\n",
            "원하시는 메뉴를 선택해주세요(q를 누르면 종료) : 딸기 쉐이크\n",
            "선택하신 메뉴는 딸기 쉐이크입니다.\n",
            "아이스로 드릴까요? 핫으로 드릴까요? : 아이스\n",
            "원하시는 수량을 숫자로 선택해주세요 : 3\n",
            "====================================================================================================\n",
            "주문 내역 : 딸기 쉐이크(아이스), 수량 : 3\n",
            "가격 :9,000원\n",
            "====================================================================================================\n",
            "결제 방식을 선택해주세요. [카드, 현금, 삼성페이, 애플페이] : 카드\n",
            "주문을 마치시겠습니까? (예/아니오) : 예\n",
            "주문이 완료되었습니다. 감사합니다!\n"
          ]
        }
      ]
    },
    {
      "cell_type": "code",
      "source": [
        "__name__"
      ],
      "metadata": {
        "colab": {
          "base_uri": "https://localhost:8080/",
          "height": 35
        },
        "id": "ibjP_DzJ3-Vd",
        "outputId": "4a6eade6-8d03-4b9b-8618-6f32b65c2437"
      },
      "execution_count": 63,
      "outputs": [
        {
          "output_type": "execute_result",
          "data": {
            "text/plain": [
              "'__main__'"
            ],
            "application/vnd.google.colaboratory.intrinsic+json": {
              "type": "string"
            }
          },
          "metadata": {},
          "execution_count": 63
        }
      ]
    },
    {
      "cell_type": "code",
      "source": [
        "pip install streamlit"
      ],
      "metadata": {
        "colab": {
          "base_uri": "https://localhost:8080/"
        },
        "id": "Q0pESwvr_sEU",
        "outputId": "7391ec8b-7785-494e-93a3-becb807bdab6"
      },
      "execution_count": 64,
      "outputs": [
        {
          "output_type": "stream",
          "name": "stdout",
          "text": [
            "Collecting streamlit\n",
            "  Downloading streamlit-1.31.1-py2.py3-none-any.whl (8.4 MB)\n",
            "\u001b[2K     \u001b[90m━━━━━━━━━━━━━━━━━━━━━━━━━━━━━━━━━━━━━━━━\u001b[0m \u001b[32m8.4/8.4 MB\u001b[0m \u001b[31m24.5 MB/s\u001b[0m eta \u001b[36m0:00:00\u001b[0m\n",
            "\u001b[?25hRequirement already satisfied: altair<6,>=4.0 in /usr/local/lib/python3.10/dist-packages (from streamlit) (4.2.2)\n",
            "Requirement already satisfied: blinker<2,>=1.0.0 in /usr/lib/python3/dist-packages (from streamlit) (1.4)\n",
            "Requirement already satisfied: cachetools<6,>=4.0 in /usr/local/lib/python3.10/dist-packages (from streamlit) (5.3.2)\n",
            "Requirement already satisfied: click<9,>=7.0 in /usr/local/lib/python3.10/dist-packages (from streamlit) (8.1.7)\n",
            "Requirement already satisfied: importlib-metadata<8,>=1.4 in /usr/local/lib/python3.10/dist-packages (from streamlit) (7.0.1)\n",
            "Requirement already satisfied: numpy<2,>=1.19.3 in /usr/local/lib/python3.10/dist-packages (from streamlit) (1.25.2)\n",
            "Requirement already satisfied: packaging<24,>=16.8 in /usr/local/lib/python3.10/dist-packages (from streamlit) (23.2)\n",
            "Requirement already satisfied: pandas<3,>=1.3.0 in /usr/local/lib/python3.10/dist-packages (from streamlit) (1.5.3)\n",
            "Requirement already satisfied: pillow<11,>=7.1.0 in /usr/local/lib/python3.10/dist-packages (from streamlit) (9.4.0)\n",
            "Requirement already satisfied: protobuf<5,>=3.20 in /usr/local/lib/python3.10/dist-packages (from streamlit) (3.20.3)\n",
            "Requirement already satisfied: pyarrow>=7.0 in /usr/local/lib/python3.10/dist-packages (from streamlit) (14.0.2)\n",
            "Requirement already satisfied: python-dateutil<3,>=2.7.3 in /usr/local/lib/python3.10/dist-packages (from streamlit) (2.8.2)\n",
            "Requirement already satisfied: requests<3,>=2.27 in /usr/local/lib/python3.10/dist-packages (from streamlit) (2.31.0)\n",
            "Requirement already satisfied: rich<14,>=10.14.0 in /usr/local/lib/python3.10/dist-packages (from streamlit) (13.7.0)\n",
            "Requirement already satisfied: tenacity<9,>=8.1.0 in /usr/local/lib/python3.10/dist-packages (from streamlit) (8.2.3)\n",
            "Requirement already satisfied: toml<2,>=0.10.1 in /usr/local/lib/python3.10/dist-packages (from streamlit) (0.10.2)\n",
            "Requirement already satisfied: typing-extensions<5,>=4.3.0 in /usr/local/lib/python3.10/dist-packages (from streamlit) (4.9.0)\n",
            "Requirement already satisfied: tzlocal<6,>=1.1 in /usr/local/lib/python3.10/dist-packages (from streamlit) (5.2)\n",
            "Collecting validators<1,>=0.2 (from streamlit)\n",
            "  Downloading validators-0.22.0-py3-none-any.whl (26 kB)\n",
            "Collecting gitpython!=3.1.19,<4,>=3.0.7 (from streamlit)\n",
            "  Downloading GitPython-3.1.42-py3-none-any.whl (195 kB)\n",
            "\u001b[2K     \u001b[90m━━━━━━━━━━━━━━━━━━━━━━━━━━━━━━━━━━━━━━━━\u001b[0m \u001b[32m195.4/195.4 kB\u001b[0m \u001b[31m18.4 MB/s\u001b[0m eta \u001b[36m0:00:00\u001b[0m\n",
            "\u001b[?25hCollecting pydeck<1,>=0.8.0b4 (from streamlit)\n",
            "  Downloading pydeck-0.8.1b0-py2.py3-none-any.whl (4.8 MB)\n",
            "\u001b[2K     \u001b[90m━━━━━━━━━━━━━━━━━━━━━━━━━━━━━━━━━━━━━━━━\u001b[0m \u001b[32m4.8/4.8 MB\u001b[0m \u001b[31m46.0 MB/s\u001b[0m eta \u001b[36m0:00:00\u001b[0m\n",
            "\u001b[?25hRequirement already satisfied: tornado<7,>=6.0.3 in /usr/local/lib/python3.10/dist-packages (from streamlit) (6.3.2)\n",
            "Collecting watchdog>=2.1.5 (from streamlit)\n",
            "  Downloading watchdog-4.0.0-py3-none-manylinux2014_x86_64.whl (82 kB)\n",
            "\u001b[2K     \u001b[90m━━━━━━━━━━━━━━━━━━━━━━━━━━━━━━━━━━━━━━━━\u001b[0m \u001b[32m83.0/83.0 kB\u001b[0m \u001b[31m11.0 MB/s\u001b[0m eta \u001b[36m0:00:00\u001b[0m\n",
            "\u001b[?25hRequirement already satisfied: entrypoints in /usr/local/lib/python3.10/dist-packages (from altair<6,>=4.0->streamlit) (0.4)\n",
            "Requirement already satisfied: jinja2 in /usr/local/lib/python3.10/dist-packages (from altair<6,>=4.0->streamlit) (3.1.3)\n",
            "Requirement already satisfied: jsonschema>=3.0 in /usr/local/lib/python3.10/dist-packages (from altair<6,>=4.0->streamlit) (4.19.2)\n",
            "Requirement already satisfied: toolz in /usr/local/lib/python3.10/dist-packages (from altair<6,>=4.0->streamlit) (0.12.1)\n",
            "Collecting gitdb<5,>=4.0.1 (from gitpython!=3.1.19,<4,>=3.0.7->streamlit)\n",
            "  Downloading gitdb-4.0.11-py3-none-any.whl (62 kB)\n",
            "\u001b[2K     \u001b[90m━━━━━━━━━━━━━━━━━━━━━━━━━━━━━━━━━━━━━━━━\u001b[0m \u001b[32m62.7/62.7 kB\u001b[0m \u001b[31m7.4 MB/s\u001b[0m eta \u001b[36m0:00:00\u001b[0m\n",
            "\u001b[?25hRequirement already satisfied: zipp>=0.5 in /usr/local/lib/python3.10/dist-packages (from importlib-metadata<8,>=1.4->streamlit) (3.17.0)\n",
            "Requirement already satisfied: pytz>=2020.1 in /usr/local/lib/python3.10/dist-packages (from pandas<3,>=1.3.0->streamlit) (2023.4)\n",
            "Requirement already satisfied: six>=1.5 in /usr/local/lib/python3.10/dist-packages (from python-dateutil<3,>=2.7.3->streamlit) (1.16.0)\n",
            "Requirement already satisfied: charset-normalizer<4,>=2 in /usr/local/lib/python3.10/dist-packages (from requests<3,>=2.27->streamlit) (3.3.2)\n",
            "Requirement already satisfied: idna<4,>=2.5 in /usr/local/lib/python3.10/dist-packages (from requests<3,>=2.27->streamlit) (3.6)\n",
            "Requirement already satisfied: urllib3<3,>=1.21.1 in /usr/local/lib/python3.10/dist-packages (from requests<3,>=2.27->streamlit) (2.0.7)\n",
            "Requirement already satisfied: certifi>=2017.4.17 in /usr/local/lib/python3.10/dist-packages (from requests<3,>=2.27->streamlit) (2024.2.2)\n",
            "Requirement already satisfied: markdown-it-py>=2.2.0 in /usr/local/lib/python3.10/dist-packages (from rich<14,>=10.14.0->streamlit) (3.0.0)\n",
            "Requirement already satisfied: pygments<3.0.0,>=2.13.0 in /usr/local/lib/python3.10/dist-packages (from rich<14,>=10.14.0->streamlit) (2.16.1)\n",
            "Collecting smmap<6,>=3.0.1 (from gitdb<5,>=4.0.1->gitpython!=3.1.19,<4,>=3.0.7->streamlit)\n",
            "  Downloading smmap-5.0.1-py3-none-any.whl (24 kB)\n",
            "Requirement already satisfied: MarkupSafe>=2.0 in /usr/local/lib/python3.10/dist-packages (from jinja2->altair<6,>=4.0->streamlit) (2.1.5)\n",
            "Requirement already satisfied: attrs>=22.2.0 in /usr/local/lib/python3.10/dist-packages (from jsonschema>=3.0->altair<6,>=4.0->streamlit) (23.2.0)\n",
            "Requirement already satisfied: jsonschema-specifications>=2023.03.6 in /usr/local/lib/python3.10/dist-packages (from jsonschema>=3.0->altair<6,>=4.0->streamlit) (2023.12.1)\n",
            "Requirement already satisfied: referencing>=0.28.4 in /usr/local/lib/python3.10/dist-packages (from jsonschema>=3.0->altair<6,>=4.0->streamlit) (0.33.0)\n",
            "Requirement already satisfied: rpds-py>=0.7.1 in /usr/local/lib/python3.10/dist-packages (from jsonschema>=3.0->altair<6,>=4.0->streamlit) (0.18.0)\n",
            "Requirement already satisfied: mdurl~=0.1 in /usr/local/lib/python3.10/dist-packages (from markdown-it-py>=2.2.0->rich<14,>=10.14.0->streamlit) (0.1.2)\n",
            "Installing collected packages: watchdog, validators, smmap, pydeck, gitdb, gitpython, streamlit\n",
            "Successfully installed gitdb-4.0.11 gitpython-3.1.42 pydeck-0.8.1b0 smmap-5.0.1 streamlit-1.31.1 validators-0.22.0 watchdog-4.0.0\n"
          ]
        }
      ]
    },
    {
      "cell_type": "code",
      "source": [
        "import streamlit as st\n",
        "\n",
        "st.title('Hello World!')"
      ],
      "metadata": {
        "colab": {
          "base_uri": "https://localhost:8080/"
        },
        "id": "Vlm6d0G2_yPF",
        "outputId": "af35ca5f-17b2-43a1-a1b2-f32eee91269b"
      },
      "execution_count": 66,
      "outputs": [
        {
          "output_type": "stream",
          "name": "stderr",
          "text": [
            "2024-02-23 08:05:23.439 \n",
            "  \u001b[33m\u001b[1mWarning:\u001b[0m to view this Streamlit app on a browser, run it with the following\n",
            "  command:\n",
            "\n",
            "    streamlit run /usr/local/lib/python3.10/dist-packages/colab_kernel_launcher.py [ARGUMENTS]\n"
          ]
        },
        {
          "output_type": "execute_result",
          "data": {
            "text/plain": [
              "DeltaGenerator()"
            ]
          },
          "metadata": {},
          "execution_count": 66
        }
      ]
    },
    {
      "cell_type": "code",
      "source": [],
      "metadata": {
        "colab": {
          "base_uri": "https://localhost:8080/",
          "height": 106
        },
        "id": "l2Xuq7XO_7Ye",
        "outputId": "ef24f00e-f760-4203-f83d-f92d3d55f483"
      },
      "execution_count": 68,
      "outputs": [
        {
          "output_type": "error",
          "ename": "SyntaxError",
          "evalue": "invalid syntax (<ipython-input-68-c7a1b683aa76>, line 1)",
          "traceback": [
            "\u001b[0;36m  File \u001b[0;32m\"<ipython-input-68-c7a1b683aa76>\"\u001b[0;36m, line \u001b[0;32m1\u001b[0m\n\u001b[0;31m    streamlit hello\u001b[0m\n\u001b[0m              ^\u001b[0m\n\u001b[0;31mSyntaxError\u001b[0m\u001b[0;31m:\u001b[0m invalid syntax\n"
          ]
        }
      ]
    },
    {
      "cell_type": "code",
      "source": [
        "!pip install -q streamlit"
      ],
      "metadata": {
        "id": "0VZoTu8AAHbu"
      },
      "execution_count": 69,
      "outputs": []
    },
    {
      "cell_type": "code",
      "source": [
        "%%writefile app.py\n",
        "\n",
        "import streamlit as st\n",
        "\n",
        "st.write('Hello, *World!* :sunglasses:') # 해당 내용을 수정해서 사이트를 자유롭게 꾸밀 수 있다."
      ],
      "metadata": {
        "colab": {
          "base_uri": "https://localhost:8080/"
        },
        "id": "2KGqjDb9AJ2R",
        "outputId": "72e437dd-0eb3-45fc-ff31-85bdaf985ef5"
      },
      "execution_count": 70,
      "outputs": [
        {
          "output_type": "stream",
          "name": "stdout",
          "text": [
            "Writing app.py\n"
          ]
        }
      ]
    },
    {
      "cell_type": "code",
      "source": [],
      "metadata": {
        "id": "ofg3Z1S6B1MW"
      },
      "execution_count": null,
      "outputs": []
    }
  ]
}