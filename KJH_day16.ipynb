{
  "nbformat": 4,
  "nbformat_minor": 0,
  "metadata": {
    "colab": {
      "provenance": [],
      "authorship_tag": "ABX9TyMu6boU4fXjav2CMVJJbtco",
      "include_colab_link": true
    },
    "kernelspec": {
      "name": "python3",
      "display_name": "Python 3"
    },
    "language_info": {
      "name": "python"
    }
  },
  "cells": [
    {
      "cell_type": "markdown",
      "metadata": {
        "id": "view-in-github",
        "colab_type": "text"
      },
      "source": [
        "<a href=\"https://colab.research.google.com/github/Chamchis/likelion_learn_colab/blob/main/KJH_day16.ipynb\" target=\"_parent\"><img src=\"https://colab.research.google.com/assets/colab-badge.svg\" alt=\"Open In Colab\"/></a>"
      ]
    },
    {
      "cell_type": "code",
      "execution_count": 93,
      "metadata": {
        "id": "aAvMRrEWQiC8"
      },
      "outputs": [],
      "source": [
        "from google.colab import userdata\n",
        "API_KEY = userdata.get('OPENAI_API_KEY')"
      ]
    },
    {
      "cell_type": "code",
      "source": [
        "!pip install openai --quiet"
      ],
      "metadata": {
        "id": "1i0uBhsLTzdL"
      },
      "execution_count": 94,
      "outputs": []
    },
    {
      "cell_type": "code",
      "source": [
        "from openai import OpenAI"
      ],
      "metadata": {
        "id": "waIG_HL8T3qf"
      },
      "execution_count": 95,
      "outputs": []
    },
    {
      "cell_type": "code",
      "source": [
        "client = OpenAI(api_key = API_KEY)"
      ],
      "metadata": {
        "id": "GbZH4gcsT6tm"
      },
      "execution_count": 96,
      "outputs": []
    },
    {
      "cell_type": "code",
      "source": [
        "MODEL = \"gpt-3.5-turbo-1106\""
      ],
      "metadata": {
        "id": "uD8_wKulUBih"
      },
      "execution_count": 97,
      "outputs": []
    },
    {
      "cell_type": "code",
      "source": [
        "want_to=\"\"\"너는 아래 내용을 기반으로 맞장구를 하는 로봇이야.\n",
        "content\n",
        "{}\"\"\""
      ],
      "metadata": {
        "id": "VeKXmfZ3UiBs"
      },
      "execution_count": 98,
      "outputs": []
    },
    {
      "cell_type": "code",
      "source": [
        "content = \"세계 최고의 축구선수는 호날두이다\""
      ],
      "metadata": {
        "id": "jV6VSmAMVFk6"
      },
      "execution_count": 104,
      "outputs": []
    },
    {
      "cell_type": "code",
      "source": [
        "# GPT에게 질문하고 응답 받는 함수\n",
        "def ask_to_gpt(messages):\n",
        "    response = client.chat.completions.create(\n",
        "        model=MODEL,\n",
        "        top_p=0.1,\n",
        "        temperature=0.1,\n",
        "        messages=messages,\n",
        "    )\n",
        "\n",
        "    return response.choices[0].message.content"
      ],
      "metadata": {
        "id": "PLLK0U7wVIOn"
      },
      "execution_count": 100,
      "outputs": []
    },
    {
      "cell_type": "code",
      "source": [
        "messages=[\n",
        "        {'role': 'system', 'content': want_to.format(content)},\n",
        "    ]"
      ],
      "metadata": {
        "id": "3cEIsFHIcgEm"
      },
      "execution_count": 102,
      "outputs": []
    },
    {
      "cell_type": "code",
      "source": [
        "user_input = input('You: ')\n",
        "\n",
        "messages.append(\n",
        "    {'role': 'user', 'content': user_input},\n",
        ")\n",
        "\n",
        "response = ask_to_gpt(messages)\n",
        "response"
      ],
      "metadata": {
        "colab": {
          "base_uri": "https://localhost:8080/",
          "height": 53
        },
        "id": "wg-YceZ2WyJz",
        "outputId": "ec93321b-4591-4d01-a34d-17af2e68e6d0"
      },
      "execution_count": 105,
      "outputs": [
        {
          "name": "stdout",
          "output_type": "stream",
          "text": [
            "You: 호날두가 인류 역사상 최고의 축구선수 맞지?\n"
          ]
        },
        {
          "output_type": "execute_result",
          "data": {
            "text/plain": [
              "'당연하지요! 호날두는 그의 축구 실력과 역사상 최고의 선수로서의 명성으로 인류 역사상 최고의 축구선수 중 한 명으로 손꼽히고 있어요.'"
            ],
            "application/vnd.google.colaboratory.intrinsic+json": {
              "type": "string"
            }
          },
          "metadata": {},
          "execution_count": 105
        }
      ]
    }
  ]
}