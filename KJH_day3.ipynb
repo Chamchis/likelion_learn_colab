{
  "nbformat": 4,
  "nbformat_minor": 0,
  "metadata": {
    "colab": {
      "provenance": [],
      "mount_file_id": "1t-eY-aMErwWD9KBsTS72ie8OeQaZ6YfN",
      "authorship_tag": "ABX9TyOHlSd77sIE53L0JVxV+KAq",
      "include_colab_link": true
    },
    "kernelspec": {
      "name": "python3",
      "display_name": "Python 3"
    },
    "language_info": {
      "name": "python"
    }
  },
  "cells": [
    {
      "cell_type": "markdown",
      "metadata": {
        "id": "view-in-github",
        "colab_type": "text"
      },
      "source": [
        "<a href=\"https://colab.research.google.com/github/Chamchis/likelion_learn_colab/blob/main/KJH_day3.ipynb\" target=\"_parent\"><img src=\"https://colab.research.google.com/assets/colab-badge.svg\" alt=\"Open In Colab\"/></a>"
      ]
    },
    {
      "cell_type": "code",
      "execution_count": null,
      "metadata": {
        "colab": {
          "base_uri": "https://localhost:8080/",
          "height": 35
        },
        "id": "FMxpQt4WAN3Y",
        "outputId": "b25cb9c0-4928-4833-8bbe-340a4684d745"
      },
      "outputs": [
        {
          "output_type": "execute_result",
          "data": {
            "text/plain": [
              "'/content'"
            ],
            "application/vnd.google.colaboratory.intrinsic+json": {
              "type": "string"
            }
          },
          "metadata": {},
          "execution_count": 1
        }
      ],
      "source": [
        "pwd"
      ]
    },
    {
      "cell_type": "code",
      "source": [
        "print(\"hello world\")"
      ],
      "metadata": {
        "colab": {
          "base_uri": "https://localhost:8080/"
        },
        "id": "ToJbFQ69BtHy",
        "outputId": "e3fd180a-283a-470c-bf7e-e33f66be6b2b"
      },
      "execution_count": null,
      "outputs": [
        {
          "output_type": "stream",
          "name": "stdout",
          "text": [
            "hello world\n"
          ]
        }
      ]
    },
    {
      "cell_type": "code",
      "source": [
        "a = 1\n",
        "print(a)"
      ],
      "metadata": {
        "colab": {
          "base_uri": "https://localhost:8080/"
        },
        "id": "7oYnebz1Bt_K",
        "outputId": "2892813d-b352-47bf-bc12-037715c910d1"
      },
      "execution_count": null,
      "outputs": [
        {
          "output_type": "stream",
          "name": "stdout",
          "text": [
            "1\n"
          ]
        }
      ]
    },
    {
      "cell_type": "code",
      "source": [
        "# % 연산자 이용한 포맷팅\n",
        "name = \"lion\"\n",
        "today = \"2024-02-21\"\n",
        "now_time = 9\n",
        "print(\"멋쟁이 사자는 영어로 like lion\")"
      ],
      "metadata": {
        "colab": {
          "base_uri": "https://localhost:8080/"
        },
        "id": "bXKepEKxBvX-",
        "outputId": "99c905bc-3878-4b7b-d41f-6e8f3e256899"
      },
      "execution_count": null,
      "outputs": [
        {
          "output_type": "stream",
          "name": "stdout",
          "text": [
            "멋쟁이 사자는 영어로 like lion\n"
          ]
        }
      ]
    },
    {
      "cell_type": "code",
      "source": [
        "print(\"멋쟁이 사자는 영어로 like %s\"%(name))"
      ],
      "metadata": {
        "colab": {
          "base_uri": "https://localhost:8080/"
        },
        "id": "gRCnEKytBx00",
        "outputId": "5ec2c129-5e6b-4219-ce84-fb62333090df"
      },
      "execution_count": null,
      "outputs": [
        {
          "output_type": "stream",
          "name": "stdout",
          "text": [
            "멋쟁이 사자는 영어로 like lion\n"
          ]
        }
      ]
    },
    {
      "cell_type": "code",
      "source": [
        "print(\"멋쟁이 사자는 영어로 like %s 이고 오늘 날짜는 %s\"%(name,today ))"
      ],
      "metadata": {
        "colab": {
          "base_uri": "https://localhost:8080/"
        },
        "id": "09Jcz8suB1Q9",
        "outputId": "d149a4a3-2ae5-4314-a3c8-e64ac7c9c6aa"
      },
      "execution_count": null,
      "outputs": [
        {
          "output_type": "stream",
          "name": "stdout",
          "text": [
            "멋쟁이 사자는 영어로 like lion 이고 오늘 날짜는 2024-02-21\n"
          ]
        }
      ]
    },
    {
      "cell_type": "code",
      "source": [
        "print(\"멋쟁이 사자는 영어로 like %s 이고 지금시간은 %d시다\"%(name,now_time ))"
      ],
      "metadata": {
        "colab": {
          "base_uri": "https://localhost:8080/"
        },
        "id": "__XBW0y5B3bT",
        "outputId": "df5a8bf0-82e8-4e12-b8a0-236958326df8"
      },
      "execution_count": null,
      "outputs": [
        {
          "output_type": "stream",
          "name": "stdout",
          "text": [
            "멋쟁이 사자는 영어로 like lion 이고 지금시간은 9시다\n"
          ]
        }
      ]
    },
    {
      "cell_type": "code",
      "source": [
        "number = 3.14159254475\n",
        "7\n",
        "print(\"파이는 %f\"%(number))"
      ],
      "metadata": {
        "colab": {
          "base_uri": "https://localhost:8080/"
        },
        "id": "_-KC96c9B4KW",
        "outputId": "daf321f0-673f-4143-eb45-3183df1274ae"
      },
      "execution_count": null,
      "outputs": [
        {
          "output_type": "stream",
          "name": "stdout",
          "text": [
            "파이는 3.141593\n"
          ]
        }
      ]
    },
    {
      "cell_type": "code",
      "source": [
        "# format 함수\n",
        "name = \"lion\"\n",
        "print(\"멋쟁이 사자는 영어로 like {}\".format(name))"
      ],
      "metadata": {
        "colab": {
          "base_uri": "https://localhost:8080/"
        },
        "id": "1AKTmsDNCGvg",
        "outputId": "428380eb-d74f-4b73-9ed5-d73a8959f099"
      },
      "execution_count": null,
      "outputs": [
        {
          "output_type": "stream",
          "name": "stdout",
          "text": [
            "멋쟁이 사자는 영어로 like lion\n"
          ]
        }
      ]
    },
    {
      "cell_type": "code",
      "source": [
        "man = \"강사\"\n",
        "print(\"멋쟁이 사자는 영어로 like {1}, 나는 {0}이다\". format(man,name))"
      ],
      "metadata": {
        "colab": {
          "base_uri": "https://localhost:8080/"
        },
        "id": "-1ii_xByDCYW",
        "outputId": "ab827871-b111-452a-c668-2d72ad0d5aec"
      },
      "execution_count": null,
      "outputs": [
        {
          "output_type": "stream",
          "name": "stdout",
          "text": [
            "멋쟁이 사자는 영어로 like lion, 나는 강사이다\n"
          ]
        }
      ]
    },
    {
      "cell_type": "code",
      "source": [
        "number = 3.141592\n",
        "print(\"파이 : {0:.2f}\".format(number))"
      ],
      "metadata": {
        "colab": {
          "base_uri": "https://localhost:8080/"
        },
        "id": "3x3xtLqlDOgV",
        "outputId": "0116cabd-1eff-45aa-aa5f-48b56d568548"
      },
      "execution_count": null,
      "outputs": [
        {
          "output_type": "stream",
          "name": "stdout",
          "text": [
            "파이 : 3.14\n"
          ]
        }
      ]
    },
    {
      "cell_type": "code",
      "source": [
        "# f-string\n",
        "name = \"여러분\"\n",
        "print(f\"안녕하세요! {name}\")"
      ],
      "metadata": {
        "colab": {
          "base_uri": "https://localhost:8080/"
        },
        "id": "WkNPxTJyDohU",
        "outputId": "5a91b6c0-9626-4a6e-e255-109f78297e21"
      },
      "execution_count": null,
      "outputs": [
        {
          "output_type": "stream",
          "name": "stdout",
          "text": [
            "안녕하세요! 여러분\n"
          ]
        }
      ]
    },
    {
      "cell_type": "code",
      "source": [
        "number = 3.141592\n",
        "print(f\"소수 {number:.3f}\")"
      ],
      "metadata": {
        "colab": {
          "base_uri": "https://localhost:8080/"
        },
        "id": "ahjXkoA-DwAh",
        "outputId": "98141144-ad4e-44ae-f35b-96ac119b56a5"
      },
      "execution_count": null,
      "outputs": [
        {
          "output_type": "stream",
          "name": "stdout",
          "text": [
            "소수 3.142\n"
          ]
        }
      ]
    },
    {
      "cell_type": "code",
      "source": [
        "!ls"
      ],
      "metadata": {
        "colab": {
          "base_uri": "https://localhost:8080/"
        },
        "id": "ElcOIj6hE_fl",
        "outputId": "7cd4ce49-fb85-4fac-f199-465544643679"
      },
      "execution_count": null,
      "outputs": [
        {
          "output_type": "stream",
          "name": "stdout",
          "text": [
            "drive  sample_data\n"
          ]
        }
      ]
    },
    {
      "cell_type": "code",
      "source": [
        "import os"
      ],
      "metadata": {
        "id": "WmjpSd4NFIZH"
      },
      "execution_count": null,
      "outputs": []
    },
    {
      "cell_type": "code",
      "source": [
        "os.getcwd()"
      ],
      "metadata": {
        "colab": {
          "base_uri": "https://localhost:8080/",
          "height": 35
        },
        "id": "O8EvuRarFrW1",
        "outputId": "46b3daf2-4760-450f-99eb-3ce3946f99bf"
      },
      "execution_count": null,
      "outputs": [
        {
          "output_type": "execute_result",
          "data": {
            "text/plain": [
              "'/content'"
            ],
            "application/vnd.google.colaboratory.intrinsic+json": {
              "type": "string"
            }
          },
          "metadata": {},
          "execution_count": 18
        }
      ]
    },
    {
      "cell_type": "code",
      "source": [
        "os.chdir('/content/drive/MyDrive/Colab Notebooks/LikeLion_BootCamp/24.02')\n",
        "print(\"os.chdir() : \",os.getcwd())"
      ],
      "metadata": {
        "colab": {
          "base_uri": "https://localhost:8080/"
        },
        "id": "I9mmzfaKF0aA",
        "outputId": "2f373398-40ca-466b-9fdf-8ac0a4e03ed2"
      },
      "execution_count": null,
      "outputs": [
        {
          "output_type": "stream",
          "name": "stdout",
          "text": [
            "os.chdir() :  /content/drive/MyDrive/Colab Notebooks/LikeLion_BootCamp/24.02\n"
          ]
        }
      ]
    },
    {
      "cell_type": "code",
      "source": [
        "number"
      ],
      "metadata": {
        "colab": {
          "base_uri": "https://localhost:8080/"
        },
        "id": "4KGZrHwAGuCB",
        "outputId": "2598bbec-6674-4868-83aa-57a79df36df3"
      },
      "execution_count": null,
      "outputs": [
        {
          "output_type": "execute_result",
          "data": {
            "text/plain": [
              "3.141592"
            ]
          },
          "metadata": {},
          "execution_count": 25
        }
      ]
    },
    {
      "cell_type": "markdown",
      "source": [
        "# 조건문"
      ],
      "metadata": {
        "id": "6wWJAn4KHhzg"
      }
    },
    {
      "cell_type": "code",
      "source": [
        "x = 21\n",
        "y = 10\n",
        "\n",
        "x / y"
      ],
      "metadata": {
        "colab": {
          "base_uri": "https://localhost:8080/"
        },
        "id": "j54u4Vj2Hjkg",
        "outputId": "983e65b1-495f-4184-f0c0-7d5a9c5d487e"
      },
      "execution_count": null,
      "outputs": [
        {
          "output_type": "execute_result",
          "data": {
            "text/plain": [
              "2.1"
            ]
          },
          "metadata": {},
          "execution_count": 26
        }
      ]
    },
    {
      "cell_type": "code",
      "source": [
        "x // y"
      ],
      "metadata": {
        "colab": {
          "base_uri": "https://localhost:8080/"
        },
        "id": "zQU-E6fIPqI9",
        "outputId": "6ca7b166-d15b-4835-8d00-98873b94bd05"
      },
      "execution_count": null,
      "outputs": [
        {
          "output_type": "execute_result",
          "data": {
            "text/plain": [
              "2"
            ]
          },
          "metadata": {},
          "execution_count": 27
        }
      ]
    },
    {
      "cell_type": "code",
      "source": [
        "x % y"
      ],
      "metadata": {
        "colab": {
          "base_uri": "https://localhost:8080/"
        },
        "id": "18P2ToxQPsgy",
        "outputId": "6d6fe297-fac9-450c-9b49-aad9e27d70e2"
      },
      "execution_count": null,
      "outputs": [
        {
          "output_type": "execute_result",
          "data": {
            "text/plain": [
              "1"
            ]
          },
          "metadata": {},
          "execution_count": 28
        }
      ]
    },
    {
      "cell_type": "code",
      "source": [
        "x"
      ],
      "metadata": {
        "colab": {
          "base_uri": "https://localhost:8080/"
        },
        "id": "I6KkO5RUPuPH",
        "outputId": "a3d90f6e-b0eb-44d6-a9a6-5b1749c31958"
      },
      "execution_count": null,
      "outputs": [
        {
          "output_type": "execute_result",
          "data": {
            "text/plain": [
              "21"
            ]
          },
          "metadata": {},
          "execution_count": 29
        }
      ]
    },
    {
      "cell_type": "code",
      "source": [
        "x%2"
      ],
      "metadata": {
        "colab": {
          "base_uri": "https://localhost:8080/"
        },
        "id": "cuc86LByPydz",
        "outputId": "34f0ca53-9226-4706-fe3a-969c30c0ffdb"
      },
      "execution_count": null,
      "outputs": [
        {
          "output_type": "execute_result",
          "data": {
            "text/plain": [
              "1"
            ]
          },
          "metadata": {},
          "execution_count": 30
        }
      ]
    },
    {
      "cell_type": "code",
      "source": [
        "x == y"
      ],
      "metadata": {
        "colab": {
          "base_uri": "https://localhost:8080/"
        },
        "id": "4qcbGw6ZPzoh",
        "outputId": "288704aa-1913-4cbe-f039-27e4e3a97cf9"
      },
      "execution_count": null,
      "outputs": [
        {
          "output_type": "execute_result",
          "data": {
            "text/plain": [
              "False"
            ]
          },
          "metadata": {},
          "execution_count": 31
        }
      ]
    },
    {
      "cell_type": "code",
      "source": [
        "x != y"
      ],
      "metadata": {
        "colab": {
          "base_uri": "https://localhost:8080/"
        },
        "id": "6axrnPteP16p",
        "outputId": "3cb7b7ec-5555-4e33-f39b-000c7fb1aee7"
      },
      "execution_count": null,
      "outputs": [
        {
          "output_type": "execute_result",
          "data": {
            "text/plain": [
              "True"
            ]
          },
          "metadata": {},
          "execution_count": 32
        }
      ]
    },
    {
      "cell_type": "code",
      "source": [
        "x == 21"
      ],
      "metadata": {
        "colab": {
          "base_uri": "https://localhost:8080/"
        },
        "id": "YAxk_QTrP5NL",
        "outputId": "0cba9a04-f596-4242-f26c-89b5eae0ab5a"
      },
      "execution_count": null,
      "outputs": [
        {
          "output_type": "execute_result",
          "data": {
            "text/plain": [
              "True"
            ]
          },
          "metadata": {},
          "execution_count": 33
        }
      ]
    },
    {
      "cell_type": "code",
      "source": [
        "# 할당 연산자\n",
        "c = 10\n",
        "c"
      ],
      "metadata": {
        "colab": {
          "base_uri": "https://localhost:8080/"
        },
        "id": "5Qe8UOaqQMHo",
        "outputId": "e07a40d3-cff7-4e71-dd86-18b549e183df"
      },
      "execution_count": null,
      "outputs": [
        {
          "output_type": "execute_result",
          "data": {
            "text/plain": [
              "10"
            ]
          },
          "metadata": {},
          "execution_count": 50
        }
      ]
    },
    {
      "cell_type": "code",
      "source": [
        "c += 1\n",
        "c"
      ],
      "metadata": {
        "colab": {
          "base_uri": "https://localhost:8080/"
        },
        "id": "pBQGIYkOQUNF",
        "outputId": "5f55fb2d-f445-4a44-dd33-e405998a6cfb"
      },
      "execution_count": null,
      "outputs": [
        {
          "output_type": "execute_result",
          "data": {
            "text/plain": [
              "11"
            ]
          },
          "metadata": {},
          "execution_count": 51
        }
      ]
    },
    {
      "cell_type": "code",
      "source": [
        "c -= 1\n",
        "c"
      ],
      "metadata": {
        "colab": {
          "base_uri": "https://localhost:8080/"
        },
        "id": "RZwqiYFTQhT2",
        "outputId": "97d782fe-bec9-4712-bae5-ac0f06269a34"
      },
      "execution_count": null,
      "outputs": [
        {
          "output_type": "execute_result",
          "data": {
            "text/plain": [
              "10"
            ]
          },
          "metadata": {},
          "execution_count": 52
        }
      ]
    },
    {
      "cell_type": "code",
      "source": [
        "x = True\n",
        "y = False"
      ],
      "metadata": {
        "id": "G_Fd0-lIQlrN"
      },
      "execution_count": null,
      "outputs": []
    },
    {
      "cell_type": "code",
      "source": [
        "x and y"
      ],
      "metadata": {
        "colab": {
          "base_uri": "https://localhost:8080/"
        },
        "id": "ggdnVYibQ-gr",
        "outputId": "44e4d5da-5883-4909-870f-ebd135336d3c"
      },
      "execution_count": null,
      "outputs": [
        {
          "output_type": "execute_result",
          "data": {
            "text/plain": [
              "False"
            ]
          },
          "metadata": {},
          "execution_count": 56
        }
      ]
    },
    {
      "cell_type": "code",
      "source": [
        "x or y"
      ],
      "metadata": {
        "colab": {
          "base_uri": "https://localhost:8080/"
        },
        "id": "2bSHdRctRCa_",
        "outputId": "b94a80a3-57d4-4f5b-9f8d-a3099606f586"
      },
      "execution_count": null,
      "outputs": [
        {
          "output_type": "execute_result",
          "data": {
            "text/plain": [
              "True"
            ]
          },
          "metadata": {},
          "execution_count": 57
        }
      ]
    },
    {
      "cell_type": "code",
      "source": [
        "not x"
      ],
      "metadata": {
        "colab": {
          "base_uri": "https://localhost:8080/"
        },
        "id": "WgnL7OWgRIE9",
        "outputId": "58dde037-2fc7-4eec-80d7-44747f84a223"
      },
      "execution_count": null,
      "outputs": [
        {
          "output_type": "execute_result",
          "data": {
            "text/plain": [
              "False"
            ]
          },
          "metadata": {},
          "execution_count": 64
        }
      ]
    },
    {
      "cell_type": "code",
      "source": [
        "not y"
      ],
      "metadata": {
        "colab": {
          "base_uri": "https://localhost:8080/"
        },
        "id": "C8Wkbo_SRJde",
        "outputId": "a2f41740-98c3-46a5-d8bb-e0e9f9283cd7"
      },
      "execution_count": null,
      "outputs": [
        {
          "output_type": "execute_result",
          "data": {
            "text/plain": [
              "True"
            ]
          },
          "metadata": {},
          "execution_count": 65
        }
      ]
    },
    {
      "cell_type": "code",
      "source": [
        "lions = ['창훈','지현','현수','현미']\n",
        "'창훈' in lions"
      ],
      "metadata": {
        "colab": {
          "base_uri": "https://localhost:8080/"
        },
        "id": "wbLWsDvtRMOP",
        "outputId": "c93b4f89-aac7-4004-f114-3dd2710295cb"
      },
      "execution_count": null,
      "outputs": [
        {
          "output_type": "execute_result",
          "data": {
            "text/plain": [
              "True"
            ]
          },
          "metadata": {},
          "execution_count": 66
        }
      ]
    },
    {
      "cell_type": "code",
      "source": [
        "'지현' not in lions"
      ],
      "metadata": {
        "colab": {
          "base_uri": "https://localhost:8080/"
        },
        "id": "w9wVrH7WRgDD",
        "outputId": "7af0a0bf-6e9f-414e-9a94-cb8bba1f2c83"
      },
      "execution_count": null,
      "outputs": [
        {
          "output_type": "execute_result",
          "data": {
            "text/plain": [
              "False"
            ]
          },
          "metadata": {},
          "execution_count": 67
        }
      ]
    },
    {
      "cell_type": "code",
      "source": [
        "x = [1,2,3]\n",
        "y = [1,2,3]\n",
        "z = x\n",
        "z"
      ],
      "metadata": {
        "colab": {
          "base_uri": "https://localhost:8080/"
        },
        "id": "ybFgaqceRiJT",
        "outputId": "e4cb0181-9000-4785-b227-d255f71f9de6"
      },
      "execution_count": null,
      "outputs": [
        {
          "output_type": "execute_result",
          "data": {
            "text/plain": [
              "[1, 2, 3]"
            ]
          },
          "metadata": {},
          "execution_count": 77
        }
      ]
    },
    {
      "cell_type": "code",
      "source": [
        "x is y"
      ],
      "metadata": {
        "colab": {
          "base_uri": "https://localhost:8080/"
        },
        "id": "Fnuh2TFESXcm",
        "outputId": "edcb7799-376b-40cf-f7fb-8c2af26f41c1"
      },
      "execution_count": null,
      "outputs": [
        {
          "output_type": "execute_result",
          "data": {
            "text/plain": [
              "False"
            ]
          },
          "metadata": {},
          "execution_count": 78
        }
      ]
    },
    {
      "cell_type": "code",
      "source": [
        "x is z"
      ],
      "metadata": {
        "colab": {
          "base_uri": "https://localhost:8080/"
        },
        "id": "Lhb8g8VrSZkK",
        "outputId": "45eaa1d8-ef48-46ce-813a-ae92c29b0585"
      },
      "execution_count": null,
      "outputs": [
        {
          "output_type": "execute_result",
          "data": {
            "text/plain": [
              "True"
            ]
          },
          "metadata": {},
          "execution_count": 79
        }
      ]
    },
    {
      "cell_type": "code",
      "source": [
        "x[1] = 100"
      ],
      "metadata": {
        "id": "9dYI8nmASin7"
      },
      "execution_count": null,
      "outputs": []
    },
    {
      "cell_type": "code",
      "source": [
        "y"
      ],
      "metadata": {
        "colab": {
          "base_uri": "https://localhost:8080/"
        },
        "id": "kr7cnFd_So70",
        "outputId": "e47d7f49-1a4f-485f-cef8-3a06864bd011"
      },
      "execution_count": null,
      "outputs": [
        {
          "output_type": "execute_result",
          "data": {
            "text/plain": [
              "[1, 2, 3]"
            ]
          },
          "metadata": {},
          "execution_count": 81
        }
      ]
    },
    {
      "cell_type": "code",
      "source": [
        "z"
      ],
      "metadata": {
        "colab": {
          "base_uri": "https://localhost:8080/"
        },
        "id": "B1Mbb--OSqVu",
        "outputId": "aded4b57-d17d-49e3-d047-54032b70c375"
      },
      "execution_count": null,
      "outputs": [
        {
          "output_type": "execute_result",
          "data": {
            "text/plain": [
              "[1, 100, 3]"
            ]
          },
          "metadata": {},
          "execution_count": 82
        }
      ]
    },
    {
      "cell_type": "markdown",
      "source": [
        "# 조건문!!"
      ],
      "metadata": {
        "id": "HeN8kh1LTTlq"
      }
    },
    {
      "cell_type": "code",
      "source": [
        "lions = ['창훈','지현','현수','찬미','종룡']\n",
        "python_team = ['지인','장기','현수']\n",
        "guest = (input(\"안녕하세요 이름이 무엇입니까? : \"))\n",
        "# alt+shift+위아래 화살표는 현재 줄 복사\n",
        "# alt + 화살표는 위아래로 옮기기\n",
        "if guest in lions:\n",
        " print(\"안녕하세요! lions팀의 {}님\".format(guest))\n",
        "elif guest in python_team:\n",
        " print(\"안녕하세요! python_team의 {}님\".format(guest))\n",
        "else:\n",
        " print(f\"새롭게 오셨군요! 반갑습니다!! {guest}님\")"
      ],
      "metadata": {
        "colab": {
          "base_uri": "https://localhost:8080/"
        },
        "id": "Tud9sBzsTVsC",
        "outputId": "cfcdf1ba-21cd-4cf9-d4ee-d18f0ccac06c"
      },
      "execution_count": null,
      "outputs": [
        {
          "output_type": "stream",
          "name": "stdout",
          "text": [
            "안녕하세요 이름이 무엇입니까? : 현수\n",
            "안녕하세요! lions팀의 현수님\n"
          ]
        }
      ]
    },
    {
      "cell_type": "code",
      "source": [
        "# 라이온팀이고 파이썬 팀인지 체크 #and\n",
        "# 라이온팀인지\n",
        "# 파이썬팀인지\n",
        "# 기타"
      ],
      "metadata": {
        "id": "lyVPuIXcWSwN"
      },
      "execution_count": null,
      "outputs": []
    },
    {
      "cell_type": "code",
      "source": [
        "lions = ['창훈','지현','현수','찬미','종용']\n",
        "python_team = ['지인','현서','현수','찬미']\n",
        "guest = (input(\"안녕하세요 이름이 무엇입니까? : \"))\n",
        "if guest in lions or guest in python_team: # 라이온팀이거나 파이썬 팀인지 체크 #or\n",
        "  print(\"두 팀 모두 속하셨네요\")\n",
        "elif guest in lions: # 라이온팀인지\n",
        "  print('라이온팀에 속하셨네요')\n",
        "elif guest in python_team: # 파이썬팀인지\n",
        "  print(\"파이썬팀에 속하셨네요\")\n",
        "else: # 기타\n",
        "  print('환영합니다!!')"
      ],
      "metadata": {
        "colab": {
          "base_uri": "https://localhost:8080/"
        },
        "id": "ZI2_AeA3WYgy",
        "outputId": "a88541d7-a80c-413c-c39c-35302a6fa176"
      },
      "execution_count": null,
      "outputs": [
        {
          "output_type": "stream",
          "name": "stdout",
          "text": [
            "안녕하세요 이름이 무엇입니까? : 김준호\n",
            "환영합니다!!\n"
          ]
        }
      ]
    },
    {
      "cell_type": "code",
      "source": [
        "total_member = lions+python_team\n",
        "set(total_member)"
      ],
      "metadata": {
        "colab": {
          "base_uri": "https://localhost:8080/"
        },
        "id": "0e_wsJADefrD",
        "outputId": "e0661ffb-7d74-4603-9dfe-e9f6bfecb7d3"
      },
      "execution_count": null,
      "outputs": [
        {
          "output_type": "execute_result",
          "data": {
            "text/plain": [
              "{'종용', '지인', '지현', '찬미', '창훈', '현서', '현수'}"
            ]
          },
          "metadata": {},
          "execution_count": 99
        }
      ]
    },
    {
      "cell_type": "code",
      "source": [
        "a = '21'\n",
        "type(a)"
      ],
      "metadata": {
        "colab": {
          "base_uri": "https://localhost:8080/"
        },
        "id": "94LfZJu4eonU",
        "outputId": "b90d53f5-c4f5-4ffb-dde8-85ac29e5a9c5"
      },
      "execution_count": null,
      "outputs": [
        {
          "output_type": "execute_result",
          "data": {
            "text/plain": [
              "str"
            ]
          },
          "metadata": {},
          "execution_count": 100
        }
      ]
    },
    {
      "cell_type": "code",
      "source": [
        "number = input(\"숫자 써주세요\")\n",
        "number, type(number)"
      ],
      "metadata": {
        "colab": {
          "base_uri": "https://localhost:8080/"
        },
        "id": "O6FwmyI5eqYp",
        "outputId": "461cebd9-60a0-4777-ff73-2db6b8314414"
      },
      "execution_count": null,
      "outputs": [
        {
          "name": "stdout",
          "output_type": "stream",
          "text": [
            "숫자 써주세요21\n"
          ]
        },
        {
          "output_type": "execute_result",
          "data": {
            "text/plain": [
              "('21', str)"
            ]
          },
          "metadata": {},
          "execution_count": 101
        }
      ]
    },
    {
      "cell_type": "code",
      "source": [
        "number1 = input(\"가격 : \")\n",
        "number1 = int(number1)\n",
        "number2 = int(input(\"낸 돈 : \"))\n",
        "print(\"거스름돈은 {}원 입니다\".format(number1-number2))"
      ],
      "metadata": {
        "colab": {
          "base_uri": "https://localhost:8080/"
        },
        "id": "hsB0JL8Lewak",
        "outputId": "cde3647d-7bec-4665-a207-37eaf606886f"
      },
      "execution_count": null,
      "outputs": [
        {
          "output_type": "stream",
          "name": "stdout",
          "text": [
            "가격 : 40000\n",
            "낸 돈 : 37000\n",
            "거스름돈은 3000원 입니다\n"
          ]
        }
      ]
    },
    {
      "cell_type": "code",
      "source": [
        "a = '123'\n",
        "a"
      ],
      "metadata": {
        "colab": {
          "base_uri": "https://localhost:8080/",
          "height": 35
        },
        "id": "YTorYDhKf4TW",
        "outputId": "4919ee26-ef2f-434f-aa17-f1e0da94fc19"
      },
      "execution_count": null,
      "outputs": [
        {
          "output_type": "execute_result",
          "data": {
            "text/plain": [
              "'123'"
            ],
            "application/vnd.google.colaboratory.intrinsic+json": {
              "type": "string"
            }
          },
          "metadata": {},
          "execution_count": 106
        }
      ]
    },
    {
      "cell_type": "code",
      "source": [
        "float(a)"
      ],
      "metadata": {
        "colab": {
          "base_uri": "https://localhost:8080/"
        },
        "id": "W0cZ83kJf6Di",
        "outputId": "70147ce8-fb28-4857-fdeb-3d669be9f639"
      },
      "execution_count": null,
      "outputs": [
        {
          "output_type": "execute_result",
          "data": {
            "text/plain": [
              "123.0"
            ]
          },
          "metadata": {},
          "execution_count": 107
        }
      ]
    },
    {
      "cell_type": "markdown",
      "source": [
        "# 반복문!!\n",
        "\n",
        "\n",
        "*   for\n",
        "*   while\n",
        "\n"
      ],
      "metadata": {
        "id": "njvGcoNX4gKK"
      }
    },
    {
      "cell_type": "code",
      "source": [
        "# for\n",
        "for i in range(10):\n",
        "  print(i)"
      ],
      "metadata": {
        "colab": {
          "base_uri": "https://localhost:8080/"
        },
        "id": "3FiRqDzH4lBY",
        "outputId": "dc98a6e3-4c38-4aef-ade6-02b42e2c4c0e"
      },
      "execution_count": null,
      "outputs": [
        {
          "output_type": "stream",
          "name": "stdout",
          "text": [
            "0\n",
            "1\n",
            "2\n",
            "3\n",
            "4\n",
            "5\n",
            "6\n",
            "7\n",
            "8\n",
            "9\n"
          ]
        }
      ]
    },
    {
      "cell_type": "code",
      "source": [
        "count = 0\n",
        "while count < 10:\n",
        "  print(count)\n",
        "  count += 1"
      ],
      "metadata": {
        "colab": {
          "base_uri": "https://localhost:8080/"
        },
        "id": "-k605RZA41Nc",
        "outputId": "769ae784-d2d5-4abd-8e8c-6bda0c7ab80e"
      },
      "execution_count": null,
      "outputs": [
        {
          "output_type": "stream",
          "name": "stdout",
          "text": [
            "0\n",
            "1\n",
            "2\n",
            "3\n",
            "4\n",
            "5\n",
            "6\n",
            "7\n",
            "8\n",
            "9\n"
          ]
        }
      ]
    },
    {
      "cell_type": "code",
      "source": [
        "a = [1,2,3,4,5,6,7,8,9,10]\n",
        "a[1:10:2]"
      ],
      "metadata": {
        "colab": {
          "base_uri": "https://localhost:8080/"
        },
        "id": "MlK9Ojbr5T6z",
        "outputId": "87620265-4000-40fd-a179-96138f11c2bf"
      },
      "execution_count": null,
      "outputs": [
        {
          "output_type": "execute_result",
          "data": {
            "text/plain": [
              "[2, 4, 6, 8, 10]"
            ]
          },
          "metadata": {},
          "execution_count": 125
        }
      ]
    },
    {
      "cell_type": "code",
      "source": [
        "for i in range(2,10):\n",
        "  print(i)"
      ],
      "metadata": {
        "colab": {
          "base_uri": "https://localhost:8080/"
        },
        "id": "PVY5f36P5hxm",
        "outputId": "103c551d-699c-4900-c709-ed33d946682b"
      },
      "execution_count": null,
      "outputs": [
        {
          "output_type": "stream",
          "name": "stdout",
          "text": [
            "2\n",
            "3\n",
            "4\n",
            "5\n",
            "6\n",
            "7\n",
            "8\n",
            "9\n"
          ]
        }
      ]
    },
    {
      "cell_type": "code",
      "source": [
        "backend = {\"name\":\"junhoo\",\"기수\":9}\n",
        "for a,b in backend.items():\n",
        "  print(a)\n",
        "  print(b)"
      ],
      "metadata": {
        "colab": {
          "base_uri": "https://localhost:8080/"
        },
        "id": "EfqHZkQO6FAQ",
        "outputId": "21e2e313-34cd-46e9-bce5-999f315fe375"
      },
      "execution_count": null,
      "outputs": [
        {
          "output_type": "stream",
          "name": "stdout",
          "text": [
            "name\n",
            "junhoo\n",
            "기수\n",
            "9\n"
          ]
        }
      ]
    },
    {
      "cell_type": "code",
      "source": [
        "backend.keys(),backend.values()"
      ],
      "metadata": {
        "colab": {
          "base_uri": "https://localhost:8080/"
        },
        "id": "w_ZfT8iG6bqw",
        "outputId": "b1c3d557-e65a-4021-fca5-42c29b7ca568"
      },
      "execution_count": null,
      "outputs": [
        {
          "output_type": "execute_result",
          "data": {
            "text/plain": [
              "(dict_keys(['name', '기수']), dict_values(['junhoo', 9]))"
            ]
          },
          "metadata": {},
          "execution_count": 131
        }
      ]
    },
    {
      "cell_type": "code",
      "source": [
        "# 팩토리얼 구하기\n",
        "# 5! = 5*4*3*2*1\n",
        "\n",
        "number = int(input(\"숫자를 넣어주세요! : \"))\n",
        "output = 1\n",
        "for i in range(number):\n",
        "  output *= i+1\n",
        "  print(i*'*')\n",
        "print('\\n',output)"
      ],
      "metadata": {
        "colab": {
          "base_uri": "https://localhost:8080/"
        },
        "id": "tzr86A7b7F0e",
        "outputId": "f73d2289-96bc-4b23-8d20-888e0c00f514"
      },
      "execution_count": null,
      "outputs": [
        {
          "output_type": "stream",
          "name": "stdout",
          "text": [
            "숫자를 넣어주세요! : 10\n",
            "\n",
            "*\n",
            "**\n",
            "***\n",
            "****\n",
            "*****\n",
            "******\n",
            "*******\n",
            "********\n",
            "*********\n",
            "\n",
            " 3628800\n"
          ]
        }
      ]
    },
    {
      "cell_type": "code",
      "source": [
        "count = 0\n",
        "while count <10:\n",
        "  print(count)\n",
        "  count += 1"
      ],
      "metadata": {
        "colab": {
          "base_uri": "https://localhost:8080/"
        },
        "id": "ddFziKDv9JlT",
        "outputId": "07685961-61fa-47d2-da3a-5d8e9091e518"
      },
      "execution_count": null,
      "outputs": [
        {
          "output_type": "stream",
          "name": "stdout",
          "text": [
            "0\n",
            "1\n",
            "2\n",
            "3\n",
            "4\n",
            "5\n",
            "6\n",
            "7\n",
            "8\n",
            "9\n"
          ]
        }
      ]
    },
    {
      "cell_type": "code",
      "source": [
        "count = 0\n",
        "while True:\n",
        "  count += 1\n",
        "  if count %2 == 1:\n",
        "    continue\n",
        "  print(count)\n",
        "  if count > 10:\n",
        "    break"
      ],
      "metadata": {
        "colab": {
          "base_uri": "https://localhost:8080/"
        },
        "id": "kCwR7qEE9KVQ",
        "outputId": "08025774-5d5d-4fd6-ffc9-595bffafc519"
      },
      "execution_count": null,
      "outputs": [
        {
          "output_type": "stream",
          "name": "stdout",
          "text": [
            "2\n",
            "4\n",
            "6\n",
            "8\n",
            "10\n",
            "12\n"
          ]
        }
      ]
    },
    {
      "cell_type": "code",
      "source": [
        "# 빵집 쇼핑\n",
        "# 메뉴\n",
        "# 고객이 빵주세요 > 주문\n",
        "# 주인이 여기 있습니다 > 주기"
      ],
      "metadata": {
        "id": "59_5ZTGe-Zmr"
      },
      "execution_count": null,
      "outputs": []
    },
    {
      "cell_type": "code",
      "source": [
        "menu = ['카스테라','단팥빵','크림빵']\n",
        "while True:\n",
        "  print(\"우리 가게의 메뉴\")\n",
        "  print(menu)\n",
        "  # 주문하기\n",
        "  order = input(\"원하시는 메뉴를 말씀해주세요 : \")\n",
        "  print(\"{} 주세요\".format(order))\n",
        "  # 빵주기\n",
        "  print(\"{} 여기 있습니다.\".format(order))\n",
        "  break\n",
        "print(\"이용해주셔서 감사합니다. \")"
      ],
      "metadata": {
        "colab": {
          "base_uri": "https://localhost:8080/"
        },
        "id": "t9AzUBx3-t-z",
        "outputId": "6a44cdc3-a4c1-4793-fab3-1027bde55916"
      },
      "execution_count": null,
      "outputs": [
        {
          "output_type": "stream",
          "name": "stdout",
          "text": [
            "우리 가게의 메뉴\n",
            "['카스테라', '단팥빵', '크림빵']\n",
            "원하시는 메뉴를 말씀해주세요 : 크림빵\n",
            "크림빵 주세요\n",
            "크림빵 여기 있습니다.\n",
            "이용해주셔서 감사합니다. \n"
          ]
        }
      ]
    },
    {
      "cell_type": "code",
      "source": [
        "# 배달의 민족 = 라이더\n",
        "areas = ['서울','경기','부산','대전','대구','광주']\n",
        "# 배차 지역이 하나씩 나온다\n",
        "# 내가 배달가고 싶은 지역이면 배차 신청을 누른다\n",
        "# 배차 신청을 하면 간다\n",
        "# 퇴근을 누르면 끝\n",
        "income = 0\n",
        "for area in areas:\n",
        "  print(f'{area}로 주문이 나왔습니다. 배송하시겠습니까??')\n",
        "  answer = input(\"배송? Y/N/퇴근 : \")\n",
        "  answer = answer.upper()\n",
        "  # print(answer)\n",
        "  if answer =='Y':\n",
        "    print('{} 지역으로 배송 출발합니다'.format(area))\n",
        "    income += 10000\n",
        "  elif answer == 'N':\n",
        "    print('{} 지역으로 배송하지 않습니다'.format(area))\n",
        "  else:\n",
        "    print('퇴근할래요')\n",
        "    break\n",
        "print('오늘 하루도 고생하셨습니다!')\n",
        "if income != 0:\n",
        "  print('오늘 수익은 %d원입니다'%income)\n",
        "else:\n",
        "  print('오늘은 배송하지 않았습니다')\n"
      ],
      "metadata": {
        "colab": {
          "base_uri": "https://localhost:8080/"
        },
        "id": "Y_VTT3TbFFI5",
        "outputId": "c8ef5220-60fd-4395-a71a-d94bb56eb9bd"
      },
      "execution_count": null,
      "outputs": [
        {
          "output_type": "stream",
          "name": "stdout",
          "text": [
            "서울로 주문이 나왔습니다. 배송하시겠습니까??\n",
            "배송? Y/N/퇴근 : y\n",
            "서울 지역으로 배송 출발합니다\n",
            "경기로 주문이 나왔습니다. 배송하시겠습니까??\n",
            "배송? Y/N/퇴근 : n\n",
            "경기 지역으로 배송하지 않습니다\n",
            "부산로 주문이 나왔습니다. 배송하시겠습니까??\n",
            "배송? Y/N/퇴근 : y\n",
            "부산 지역으로 배송 출발합니다\n",
            "대전로 주문이 나왔습니다. 배송하시겠습니까??\n",
            "배송? Y/N/퇴근 : n\n",
            "대전 지역으로 배송하지 않습니다\n",
            "대구로 주문이 나왔습니다. 배송하시겠습니까??\n",
            "배송? Y/N/퇴근 : n\n",
            "대구 지역으로 배송하지 않습니다\n",
            "광주로 주문이 나왔습니다. 배송하시겠습니까??\n",
            "배송? Y/N/퇴근 : n\n",
            "광주 지역으로 배송하지 않습니다\n",
            "오늘 하루도 고생하셨습니다!\n",
            "오늘 수익은 20000원입니다\n"
          ]
        }
      ]
    },
    {
      "cell_type": "code",
      "source": [
        "# 사용자로부터 n 입력 받기\n",
        "size = int(input(\"원하는 정사각형의 크기는? : \"))\n",
        "\n",
        "# 정사각형 출력\n",
        "for i in range(size):\n",
        "    for j in range(size):\n",
        "        print('*', end='')\n",
        "    print()\n"
      ],
      "metadata": {
        "colab": {
          "base_uri": "https://localhost:8080/"
        },
        "id": "yNh87UUwJk2I",
        "outputId": "c920cd7d-d585-4f62-ca2e-62d9ef400110"
      },
      "execution_count": null,
      "outputs": [
        {
          "output_type": "stream",
          "name": "stdout",
          "text": [
            "원하는 정사각형의 크기는? : 5\n",
            "*****\n",
            "*****\n",
            "*****\n",
            "*****\n",
            "*****\n"
          ]
        }
      ]
    },
    {
      "cell_type": "markdown",
      "source": [
        "# 리스트 컴프리헨션"
      ],
      "metadata": {
        "id": "Re13rG7vLjG6"
      }
    },
    {
      "cell_type": "code",
      "source": [
        "a = [0,1,2,3,4,5]\n",
        "a"
      ],
      "metadata": {
        "colab": {
          "base_uri": "https://localhost:8080/"
        },
        "id": "c3X9e4nSLkcy",
        "outputId": "0e6387be-6601-40ad-df24-6911c236a43b"
      },
      "execution_count": null,
      "outputs": [
        {
          "output_type": "execute_result",
          "data": {
            "text/plain": [
              "[0, 1, 2, 3, 4, 5]"
            ]
          },
          "metadata": {},
          "execution_count": 199
        }
      ]
    },
    {
      "cell_type": "code",
      "source": [
        "%%time\n",
        "number = 1000000\n",
        "a_for=[]\n",
        "for i in range(number):\n",
        "  a_for.append(i)"
      ],
      "metadata": {
        "colab": {
          "base_uri": "https://localhost:8080/"
        },
        "id": "7m6dWXQCL38b",
        "outputId": "0c6a209c-d864-4868-80ed-ef8d398d0fd1"
      },
      "execution_count": null,
      "outputs": [
        {
          "output_type": "stream",
          "name": "stdout",
          "text": [
            "CPU times: user 139 ms, sys: 22.4 ms, total: 162 ms\n",
            "Wall time: 208 ms\n"
          ]
        }
      ]
    },
    {
      "cell_type": "code",
      "source": [
        "%%time\n",
        "a_comp = [i for i in range(number)]"
      ],
      "metadata": {
        "colab": {
          "base_uri": "https://localhost:8080/"
        },
        "id": "GRwXunl9MNP-",
        "outputId": "1152cf29-cabe-4057-f443-30ee743f0c74"
      },
      "execution_count": null,
      "outputs": [
        {
          "output_type": "stream",
          "name": "stdout",
          "text": [
            "CPU times: user 66.2 ms, sys: 38.2 ms, total: 104 ms\n",
            "Wall time: 116 ms\n"
          ]
        }
      ]
    },
    {
      "cell_type": "code",
      "source": [
        "a_comp = [i for i in range(10)]\n",
        "a_comp"
      ],
      "metadata": {
        "colab": {
          "base_uri": "https://localhost:8080/"
        },
        "id": "OaHo2SW9NWm7",
        "outputId": "e2be9815-219e-48dd-c915-ce0ef7fdde18"
      },
      "execution_count": null,
      "outputs": [
        {
          "output_type": "execute_result",
          "data": {
            "text/plain": [
              "[0, 1, 2, 3, 4, 5, 6, 7, 8, 9]"
            ]
          },
          "metadata": {},
          "execution_count": 224
        }
      ]
    },
    {
      "cell_type": "code",
      "source": [
        "a_comp = [i for i in range(10) if i % 2 == 0] # 짝수\n",
        "a_comp"
      ],
      "metadata": {
        "colab": {
          "base_uri": "https://localhost:8080/"
        },
        "id": "waeOznMHNaAd",
        "outputId": "ac528fd2-61b8-42c5-bbe9-148f9967c054"
      },
      "execution_count": null,
      "outputs": [
        {
          "output_type": "execute_result",
          "data": {
            "text/plain": [
              "[0, 2, 4, 6, 8]"
            ]
          },
          "metadata": {},
          "execution_count": 236
        }
      ]
    },
    {
      "cell_type": "code",
      "source": [
        "a_comp = [i for i in range(10) if i % 2 != 0] # 홀수\n",
        "a_comp"
      ],
      "metadata": {
        "colab": {
          "base_uri": "https://localhost:8080/"
        },
        "id": "0tR-4LHrNomZ",
        "outputId": "c3c27516-6fd5-47fa-b5fe-1a8a80c4e9e2"
      },
      "execution_count": null,
      "outputs": [
        {
          "output_type": "execute_result",
          "data": {
            "text/plain": [
              "[1, 3, 5, 7, 9]"
            ]
          },
          "metadata": {},
          "execution_count": 235
        }
      ]
    },
    {
      "cell_type": "code",
      "source": [
        "name = 'Korea'\n",
        "num = int(input())\n",
        "name if len(name) > num else \"America\""
      ],
      "metadata": {
        "colab": {
          "base_uri": "https://localhost:8080/",
          "height": 54
        },
        "id": "zRCC1nnwQ_W8",
        "outputId": "57d543dc-717e-4512-9ab0-6be408b0f863"
      },
      "execution_count": null,
      "outputs": [
        {
          "name": "stdout",
          "output_type": "stream",
          "text": [
            "2\n"
          ]
        },
        {
          "output_type": "execute_result",
          "data": {
            "text/plain": [
              "'korea'"
            ],
            "application/vnd.google.colaboratory.intrinsic+json": {
              "type": "string"
            }
          },
          "metadata": {},
          "execution_count": 244
        }
      ]
    },
    {
      "cell_type": "code",
      "source": [
        "# 짝수는 1씩 빼고 싶어 ex) 2 -> 1\n",
        "# 짝수일때만 리스트에 넣는데 1씩 빼서 넣을게\n",
        "%%time\n",
        "a_comp = [i-1 for i in range(10) if i%2==0 ]\n",
        "a_comp"
      ],
      "metadata": {
        "colab": {
          "base_uri": "https://localhost:8080/"
        },
        "id": "frUsMrn1OHWx",
        "outputId": "dc93a0db-81f9-457f-d46e-95399d484c6a"
      },
      "execution_count": null,
      "outputs": [
        {
          "output_type": "stream",
          "name": "stdout",
          "text": [
            "CPU times: user 78 µs, sys: 0 ns, total: 78 µs\n",
            "Wall time: 83.9 µs\n"
          ]
        },
        {
          "output_type": "execute_result",
          "data": {
            "text/plain": [
              "[-1, 1, 3, 5, 7]"
            ]
          },
          "metadata": {},
          "execution_count": 246
        }
      ]
    },
    {
      "cell_type": "code",
      "source": [
        "# 모든 숫자를 넣는데 짝수일때는 1씩 뺴고 싶어\n",
        "%%time\n",
        "a_comp = [i-1 if i % 2 == 0 else i for i in range(10)]\n",
        "a_comp"
      ],
      "metadata": {
        "colab": {
          "base_uri": "https://localhost:8080/"
        },
        "id": "YsXUn8EORyd7",
        "outputId": "5ebcd2eb-993a-4a7f-bcbf-cd4740585bb6"
      },
      "execution_count": null,
      "outputs": [
        {
          "output_type": "stream",
          "name": "stdout",
          "text": [
            "CPU times: user 25 µs, sys: 3 µs, total: 28 µs\n",
            "Wall time: 32.7 µs\n"
          ]
        },
        {
          "output_type": "execute_result",
          "data": {
            "text/plain": [
              "[-1, 1, 1, 3, 3, 5, 5, 7, 7, 9]"
            ]
          },
          "metadata": {},
          "execution_count": 252
        }
      ]
    },
    {
      "cell_type": "code",
      "source": [
        "netplix_dict = {\"name\":\"GameOfThrones\",\"Actor\":\"Roh\"}"
      ],
      "metadata": {
        "id": "phOTPgYQSdiN"
      },
      "execution_count": null,
      "outputs": []
    },
    {
      "cell_type": "code",
      "source": [
        "a_dict_comp = {index:index for index in range(8)}\n",
        "a_dict_comp"
      ],
      "metadata": {
        "colab": {
          "base_uri": "https://localhost:8080/"
        },
        "id": "FhYnRVOKSo_K",
        "outputId": "dec49804-73b2-43b4-912c-df6059699d02"
      },
      "execution_count": null,
      "outputs": [
        {
          "output_type": "execute_result",
          "data": {
            "text/plain": [
              "{0: 0, 1: 1, 2: 2, 3: 3, 4: 4, 5: 5, 6: 6, 7: 7}"
            ]
          },
          "metadata": {},
          "execution_count": 255
        }
      ]
    },
    {
      "cell_type": "code",
      "source": [
        "a_dict_comp = {index:index**2 for index in range(8)}\n",
        "a_dict_comp"
      ],
      "metadata": {
        "colab": {
          "base_uri": "https://localhost:8080/"
        },
        "id": "K_sMjBykTJkM",
        "outputId": "8a7093ad-c5a7-4ec2-c6b9-6b7d58b1e278"
      },
      "execution_count": null,
      "outputs": [
        {
          "output_type": "execute_result",
          "data": {
            "text/plain": [
              "{0: 0, 1: 1, 2: 4, 3: 9, 4: 16, 5: 25, 6: 36, 7: 49}"
            ]
          },
          "metadata": {},
          "execution_count": 256
        }
      ]
    },
    {
      "cell_type": "code",
      "source": [
        "# 영화 제목:\n",
        "movie_titles = [\n",
        "    \"어벤져스: 엔드게임\",\n",
        "    \"인셉션\",\n",
        "    \"스타워즈: 깨어난 포스\",\n",
        "    \"타이타닉\",\n",
        "    \"어바웃 타임\",\n",
        "    \"라라랜드\",\n",
        "    \"어벤져스: 인피니티 워\",\n",
        "    \"해리 포터와 마법사의 돌\",\n",
        "    \"겨울왕국\",\n",
        "    \"매트릭스\"\n",
        "]\n",
        "\n",
        "# 주인공 이름:\n",
        "main_characters = [\n",
        "    \"토니 스타크\",\n",
        "    \"도미닉 코브\",\n",
        "    \"레이\",\n",
        "    \"잭 드로즈\",\n",
        "    \"팀\",\n",
        "    \"세바스찬\",\n",
        "    \"토르\",\n",
        "    \"해리 포터\",\n",
        "    \"엘사\",\n",
        "    \"네오\"\n",
        "]"
      ],
      "metadata": {
        "id": "RyyaCkEqTvcT"
      },
      "execution_count": null,
      "outputs": []
    },
    {
      "cell_type": "code",
      "source": [
        "movie_titles , main_characters"
      ],
      "metadata": {
        "colab": {
          "base_uri": "https://localhost:8080/"
        },
        "id": "0j63S2YjTwxf",
        "outputId": "dc4d65b5-e3f8-46d7-a9df-e723c00f7607"
      },
      "execution_count": null,
      "outputs": [
        {
          "output_type": "execute_result",
          "data": {
            "text/plain": [
              "(['어벤져스: 엔드게임',\n",
              "  '인셉션',\n",
              "  '스타워즈: 깨어난 포스',\n",
              "  '타이타닉',\n",
              "  '어바웃 타임',\n",
              "  '라라랜드',\n",
              "  '어벤져스: 인피니티 워',\n",
              "  '해리 포터와 마법사의 돌',\n",
              "  '겨울왕국',\n",
              "  '매트릭스'],\n",
              " ['토니 스타크', '도미닉 코브', '레이', '잭 드로즈', '팀', '세바스찬', '토르', '해리 포터', '엘사', '네오'])"
            ]
          },
          "metadata": {},
          "execution_count": 260
        }
      ]
    },
    {
      "cell_type": "code",
      "source": [
        "# 출력 : %영화%의 주인공은 %배우% 입니다\n",
        "for tmp in zip(movie_titles, main_characters):\n",
        "  print(\"{} 의 주인공은 {} 입니다\".format(tmp[0],tmp[1]))"
      ],
      "metadata": {
        "colab": {
          "base_uri": "https://localhost:8080/"
        },
        "id": "VhEp0n0mT6Fs",
        "outputId": "7a5d0b39-dae4-462d-8718-7364a012a0d2"
      },
      "execution_count": null,
      "outputs": [
        {
          "output_type": "stream",
          "name": "stdout",
          "text": [
            "어벤져스: 엔드게임 의 주인공은 토니 스타크 입니다\n",
            "인셉션 의 주인공은 도미닉 코브 입니다\n",
            "스타워즈: 깨어난 포스 의 주인공은 레이 입니다\n",
            "타이타닉 의 주인공은 잭 드로즈 입니다\n",
            "어바웃 타임 의 주인공은 팀 입니다\n",
            "라라랜드 의 주인공은 세바스찬 입니다\n",
            "어벤져스: 인피니티 워 의 주인공은 토르 입니다\n",
            "해리 포터와 마법사의 돌 의 주인공은 해리 포터 입니다\n",
            "겨울왕국 의 주인공은 엘사 입니다\n",
            "매트릭스 의 주인공은 네오 입니다\n"
          ]
        }
      ]
    },
    {
      "cell_type": "code",
      "source": [
        "# 출력 : 어벤저스의 주인공은 토니 스타크입니다\n",
        "for title, character in zip(movie_titles, main_characters):\n",
        "  print(\"{}의 주인공은 {}입니다\".format(title, character))"
      ],
      "metadata": {
        "colab": {
          "base_uri": "https://localhost:8080/"
        },
        "id": "YliTvwFBVC7F",
        "outputId": "ead57772-c1bc-4af9-8224-c25391efc794"
      },
      "execution_count": null,
      "outputs": [
        {
          "output_type": "stream",
          "name": "stdout",
          "text": [
            "어벤져스: 엔드게임의 주인공은 토니 스타크입니다\n",
            "인셉션의 주인공은 도미닉 코브입니다\n",
            "스타워즈: 깨어난 포스의 주인공은 레이입니다\n",
            "타이타닉의 주인공은 잭 드로즈입니다\n",
            "어바웃 타임의 주인공은 팀입니다\n",
            "라라랜드의 주인공은 세바스찬입니다\n",
            "어벤져스: 인피니티 워의 주인공은 토르입니다\n",
            "해리 포터와 마법사의 돌의 주인공은 해리 포터입니다\n",
            "겨울왕국의 주인공은 엘사입니다\n",
            "매트릭스의 주인공은 네오입니다\n"
          ]
        }
      ]
    },
    {
      "cell_type": "code",
      "source": [
        "# 영화 제목:\n",
        "movie_titles = [\n",
        "    \"어벤져스: 엔드게임\",\n",
        "    \"인셉션\",\n",
        "    \"스타워즈: 깨어난 포스\",\n",
        "    \"타이타닉\",\n",
        "    \"어바웃 타임\",\n",
        "    \"라라랜드\",\n",
        "    \"어벤져스: 인피니티 워\",\n",
        "    \"해리 포터와 마법사의 돌\",\n",
        "    \"겨울왕국\"\n",
        "]\n",
        "\n",
        "# 주인공 이름:\n",
        "main_characters = [\n",
        "    \"토니 스타크\",\n",
        "    \"도미닉 코브\",\n",
        "    \"레이\",\n",
        "    \"잭 드로즈\",\n",
        "    \"팀\",\n",
        "    \"세바스찬\",\n",
        "    \"토르\",\n",
        "    \"해리 포터\",\n",
        "    \"엘사\",\n",
        "    \"네오\"\n",
        "]\n"
      ],
      "metadata": {
        "id": "jzVSO9lKX_yO"
      },
      "execution_count": null,
      "outputs": []
    },
    {
      "cell_type": "code",
      "source": [
        "for tmp in zip(movie_titles,main_characters):\n",
        "  print(tmp)"
      ],
      "metadata": {
        "colab": {
          "base_uri": "https://localhost:8080/"
        },
        "id": "c_VLtOUeYAgp",
        "outputId": "1cddd00e-d9c5-4d3a-b796-baa3ac9054a2"
      },
      "execution_count": null,
      "outputs": [
        {
          "output_type": "stream",
          "name": "stdout",
          "text": [
            "('어벤져스: 엔드게임', '토니 스타크')\n",
            "('인셉션', '도미닉 코브')\n",
            "('스타워즈: 깨어난 포스', '레이')\n",
            "('타이타닉', '잭 드로즈')\n",
            "('어바웃 타임', '팀')\n",
            "('라라랜드', '세바스찬')\n",
            "('어벤져스: 인피니티 워', '토르')\n",
            "('해리 포터와 마법사의 돌', '해리 포터')\n",
            "('겨울왕국', '엘사')\n"
          ]
        }
      ]
    },
    {
      "cell_type": "code",
      "source": [
        "a_comp=[i for i in range(6)]\n",
        "a_comp"
      ],
      "metadata": {
        "colab": {
          "base_uri": "https://localhost:8080/"
        },
        "id": "ueA3HZIxmotH",
        "outputId": "eb36a94c-0d93-4f22-b5c6-a89149bc0ad0"
      },
      "execution_count": null,
      "outputs": [
        {
          "output_type": "execute_result",
          "data": {
            "text/plain": [
              "[0, 1, 2, 3, 4, 5]"
            ]
          },
          "metadata": {},
          "execution_count": 275
        }
      ]
    },
    {
      "cell_type": "code",
      "source": [
        "a_dict_comp={a-1:a+1 for a in range(8)}#{키:밸류 for i in...}\n",
        "a_dict_comp"
      ],
      "metadata": {
        "colab": {
          "base_uri": "https://localhost:8080/"
        },
        "id": "Ikwl1mCYmuUR",
        "outputId": "116da260-46d6-4f86-dfc3-d922a7c48fd9"
      },
      "execution_count": null,
      "outputs": [
        {
          "output_type": "execute_result",
          "data": {
            "text/plain": [
              "{-1: 1, 0: 2, 1: 3, 2: 4, 3: 5, 4: 6, 5: 7, 6: 8}"
            ]
          },
          "metadata": {},
          "execution_count": 278
        }
      ]
    },
    {
      "cell_type": "code",
      "source": [
        "# 출력 : %영화%의 주인공은 %배우% 입니다\n",
        "for tmp in zip(movie_titles, main_characters):\n",
        "  print(\"{} 의 주인공은 {} 입니다\".format(tmp[0],tmp[1]))\n"
      ],
      "metadata": {
        "colab": {
          "base_uri": "https://localhost:8080/"
        },
        "id": "3StORIR0m-2c",
        "outputId": "a6935894-2117-4732-af6a-e274033e27be"
      },
      "execution_count": null,
      "outputs": [
        {
          "output_type": "stream",
          "name": "stdout",
          "text": [
            "어벤져스: 엔드게임 의 주인공은 토니 스타크 입니다\n",
            "인셉션 의 주인공은 도미닉 코브 입니다\n",
            "스타워즈: 깨어난 포스 의 주인공은 레이 입니다\n",
            "타이타닉 의 주인공은 잭 드로즈 입니다\n",
            "어바웃 타임 의 주인공은 팀 입니다\n",
            "라라랜드 의 주인공은 세바스찬 입니다\n",
            "어벤져스: 인피니티 워 의 주인공은 토르 입니다\n",
            "해리 포터와 마법사의 돌 의 주인공은 해리 포터 입니다\n",
            "겨울왕국 의 주인공은 엘사 입니다\n"
          ]
        }
      ]
    },
    {
      "cell_type": "code",
      "source": [
        "# 피보나치 수열\n",
        "# 0 1 1 2 3\n",
        "# fibo[0, 1, 1, 2, ]\n",
        "# 사용자로부터 n 입력 -> n 번째 피보나치 수\n",
        "\n",
        "n = int(input(\"n: \"))\n",
        "\n",
        "# n번째 피보나치 수를 찾기\n",
        "fibo = [0, 1] # 0, 1 에 더 추가할 예정\n",
        "\n",
        "for i in range(2, n+1):  #fibo[n]\n",
        "\tfibo.append(fibo[i-2] + fibo[i-1])\n",
        "\n",
        "print(fibo[n])"
      ],
      "metadata": {
        "colab": {
          "base_uri": "https://localhost:8080/"
        },
        "id": "4ZjtKVExnImL",
        "outputId": "8c04c658-6ff7-463e-9b0b-8a8bbb88ea46"
      },
      "execution_count": null,
      "outputs": [
        {
          "output_type": "stream",
          "name": "stdout",
          "text": [
            "n: 7\n",
            "13\n"
          ]
        }
      ]
    },
    {
      "cell_type": "code",
      "source": [
        "n = int(input(\"n: \"))\n",
        "\n",
        "# 소수 찾기\n",
        "print(\"1부터\", n, \"까지의 소수:\")\n",
        "for i in range(2, n + 1):\n",
        "    cnt = 0\n",
        "    for j in range(1, i + 1):\n",
        "        if i % j == 0:\n",
        "            cnt += 1\n",
        "    if cnt == 2:\n",
        "        print(i, end=\" \")"
      ],
      "metadata": {
        "colab": {
          "base_uri": "https://localhost:8080/"
        },
        "id": "R8kQG3pnp3e3",
        "outputId": "fac8715e-cc78-448e-d63f-782a73bf5f73"
      },
      "execution_count": null,
      "outputs": [
        {
          "output_type": "stream",
          "name": "stdout",
          "text": [
            "n: 10\n",
            "1부터 10 까지의 소수:\n",
            "2 3 5 7 "
          ]
        }
      ]
    },
    {
      "cell_type": "code",
      "source": [
        "n = int(input(\"n: \"))\n",
        "\n",
        "# 소수 찾기\n",
        "print(\"1부터\", n, \"까지의 소수:\")\n",
        "for i in range(2, n + 1):\n",
        "    is_prime = True\n",
        "    for j in range(2, i):\n",
        "        if i % j == 0:\n",
        "            is_prime = False\n",
        "            break\n",
        "    if is_prime:\n",
        "        print(i, end=\" \")\n"
      ],
      "metadata": {
        "colab": {
          "base_uri": "https://localhost:8080/"
        },
        "id": "-xi-0NwMraeZ",
        "outputId": "dd5c3a52-de06-41b1-b4ee-b31746949be9"
      },
      "execution_count": null,
      "outputs": [
        {
          "output_type": "stream",
          "name": "stdout",
          "text": [
            "n: 10\n",
            "1부터 10 까지의 소수:\n",
            "2 3 5 7 "
          ]
        }
      ]
    },
    {
      "cell_type": "code",
      "source": [
        "# 사용자의 나이를 입력받아 성인 여부 판단하기\n",
        "age = int(input(\"나이를 입력해주세요\"))\n",
        "\n",
        "if age < 20:\n",
        "  print('당신은 성인이 아닙니다')\n",
        "else:\n",
        "  print('당신은 성인입니다')"
      ],
      "metadata": {
        "colab": {
          "base_uri": "https://localhost:8080/"
        },
        "id": "-uBgBEvetE87",
        "outputId": "7a73e2fb-7cf6-4bda-81d4-7f9b95748ab0"
      },
      "execution_count": null,
      "outputs": [
        {
          "output_type": "stream",
          "name": "stdout",
          "text": [
            "나이를 입력해주세요19\n",
            "당신은 성인이 아닙니다\n"
          ]
        }
      ]
    },
    {
      "cell_type": "code",
      "source": [
        "# 사용자로부터 3개의 숫자를 입력받아 최대값 찾기\n",
        "\n",
        "A = int(input(\"첫번쨰 수를 입력해주세요\"))\n",
        "B = int(input(\"두번쨰 수를 입력해주세요\"))\n",
        "C = int(input(\"세번쨰 수를 입력해주세요\"))\n",
        "\n",
        "max_value = A\n",
        "\n",
        "if max_value < B:\n",
        "  max_value = B\n",
        "if max_value < C:\n",
        "  max_value = C\n",
        "\n",
        "print(max_value)"
      ],
      "metadata": {
        "colab": {
          "base_uri": "https://localhost:8080/"
        },
        "id": "LlXVZ6m_uFF7",
        "outputId": "c47670a2-38e1-4eab-d70a-7456f114a7fa"
      },
      "execution_count": null,
      "outputs": [
        {
          "output_type": "stream",
          "name": "stdout",
          "text": [
            "첫번쨰 수를 입력해주세요1\n",
            "두번쨰 수를 입력해주세요2\n",
            "세번쨰 수를 입력해주세요3\n",
            "3\n"
          ]
        }
      ]
    }
  ]
}