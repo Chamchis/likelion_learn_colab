{
  "nbformat": 4,
  "nbformat_minor": 0,
  "metadata": {
    "colab": {
      "provenance": [],
      "mount_file_id": "1BAO62WYy9s9R5WG6MKgj8vyFcloz8xXH",
      "authorship_tag": "ABX9TyMssYp5n1VfBYc1DQb91rQj",
      "include_colab_link": true
    },
    "kernelspec": {
      "name": "python3",
      "display_name": "Python 3"
    },
    "language_info": {
      "name": "python"
    }
  },
  "cells": [
    {
      "cell_type": "markdown",
      "metadata": {
        "id": "view-in-github",
        "colab_type": "text"
      },
      "source": [
        "<a href=\"https://colab.research.google.com/github/Chamchis/test/blob/Colab/KJH_day4.ipynb\" target=\"_parent\"><img src=\"https://colab.research.google.com/assets/colab-badge.svg\" alt=\"Open In Colab\"/></a>"
      ]
    },
    {
      "cell_type": "code",
      "execution_count": null,
      "metadata": {
        "colab": {
          "base_uri": "https://localhost:8080/"
        },
        "id": "EPIna33XIPgv",
        "outputId": "b72a88fa-b75e-4431-ba32-f5c34f730836"
      },
      "outputs": [
        {
          "output_type": "stream",
          "name": "stdout",
          "text": [
            "현우님 안녕하세요! \n",
            "오늘도 화이팅입니다!\n",
            "아자아자\n",
            "재현님 안녕하세요! \n",
            "오늘도 화이팅입니다!\n",
            "아자아자\n",
            "우흥님 안녕하세요! \n",
            "오늘도 화이팅입니다!\n",
            "아자아자\n"
          ]
        }
      ],
      "source": [
        "# 코드의 재사용성\n",
        "print(\"현우님 안녕하세요! \")\n",
        "print(\"오늘도 화이팅입니다!\")\n",
        "print(\"아자아자\")\n",
        "print(\"재현님 안녕하세요! \")\n",
        "print(\"오늘도 화이팅입니다!\")\n",
        "print(\"아자아자\")\n",
        "print(\"우흥님 안녕하세요! \")\n",
        "print(\"오늘도 화이팅입니다!\")\n",
        "print(\"아자아자\")"
      ]
    },
    {
      "cell_type": "code",
      "source": [
        "# 함수 만들기\n",
        "def add(a,b):\n",
        "  return a+b"
      ],
      "metadata": {
        "id": "RvpWeKk_Lp0Y"
      },
      "execution_count": null,
      "outputs": []
    },
    {
      "cell_type": "code",
      "source": [
        "# 함수 사용하기\n",
        "add(1,3)"
      ],
      "metadata": {
        "colab": {
          "base_uri": "https://localhost:8080/"
        },
        "id": "V5SSOFWzMedK",
        "outputId": "19a195b4-4a54-4aef-e4db-c25d033b1899"
      },
      "execution_count": null,
      "outputs": [
        {
          "output_type": "execute_result",
          "data": {
            "text/plain": [
              "4"
            ]
          },
          "metadata": {},
          "execution_count": 4
        }
      ]
    },
    {
      "cell_type": "code",
      "source": [
        "def 인사():\n",
        "  print(\"안녕하세요\")\n",
        "  return \"반갑습니다\""
      ],
      "metadata": {
        "id": "lYNAc1oQMpRy"
      },
      "execution_count": null,
      "outputs": []
    },
    {
      "cell_type": "code",
      "source": [
        "인사()"
      ],
      "metadata": {
        "colab": {
          "base_uri": "https://localhost:8080/",
          "height": 52
        },
        "id": "Pk44Ms3CMz7X",
        "outputId": "060f8b19-53d8-4748-d1e7-1d3e61e28d8d"
      },
      "execution_count": null,
      "outputs": [
        {
          "output_type": "stream",
          "name": "stdout",
          "text": [
            "안녕하세요\n"
          ]
        },
        {
          "output_type": "execute_result",
          "data": {
            "text/plain": [
              "'반갑습니다'"
            ],
            "application/vnd.google.colaboratory.intrinsic+json": {
              "type": "string"
            }
          },
          "metadata": {},
          "execution_count": 18
        }
      ]
    },
    {
      "cell_type": "code",
      "source": [
        "ret"
      ],
      "metadata": {
        "colab": {
          "base_uri": "https://localhost:8080/",
          "height": 35
        },
        "id": "Z6xnZeCTNdMS",
        "outputId": "4588ba69-1dc8-4967-c114-88b325a09aac"
      },
      "execution_count": null,
      "outputs": [
        {
          "output_type": "execute_result",
          "data": {
            "text/plain": [
              "'반갑습니다'"
            ],
            "application/vnd.google.colaboratory.intrinsic+json": {
              "type": "string"
            }
          },
          "metadata": {},
          "execution_count": 19
        }
      ]
    },
    {
      "cell_type": "code",
      "source": [
        "\n",
        "# print(\"현우님 안녕하세요! \")\n",
        "# print(\"오늘도 화이팅입니다!\")\n",
        "# print(\"아자아자\")\n",
        "# print(\"재현님 안녕하세요! \")\n",
        "# print(\"오늘도 화이팅입니다!\")\n",
        "# print(\"아자아자\")\n",
        "# print(\"우흥님 안녕하세요! \")\n",
        "# print(\"오늘도 화이팅입니다!\")\n",
        "# print(\"아자아자\")"
      ],
      "metadata": {
        "id": "JAtT1BCSNfDH"
      },
      "execution_count": null,
      "outputs": []
    },
    {
      "cell_type": "code",
      "source": [
        "def 인사(name):\n",
        "  print(f\"{name}님 안녕하세요! \")\n",
        "  print(\"오늘도 화이팅입니다! \")\n",
        "  print(\"아자아자! \")\n",
        "IName = input(\"이름을 입력해주세요! : \")\n",
        "인사(IName)"
      ],
      "metadata": {
        "colab": {
          "base_uri": "https://localhost:8080/"
        },
        "id": "qM77W02rNmVT",
        "outputId": "8802bd96-eae3-456a-e5e5-04900cb5a0ac"
      },
      "execution_count": null,
      "outputs": [
        {
          "output_type": "stream",
          "name": "stdout",
          "text": [
            "이름을 입력해주세요! : 동탁\n",
            "동탁님 안녕하세요! \n",
            "오늘도 화이팅입니다! \n",
            "아자아자! \n"
          ]
        }
      ]
    },
    {
      "cell_type": "code",
      "source": [
        "def 인사(name):\n",
        "  print(f\"{name}님 안녕하세요! \")\n",
        "  print(\"오늘도 화이팅입니다! \")\n",
        "  print(\"아자아자! \")\n",
        "names = ['현우','재현','종룡']\n",
        "for name in names:\n",
        "  인사(name)"
      ],
      "metadata": {
        "colab": {
          "base_uri": "https://localhost:8080/"
        },
        "id": "5ECf8dLPOSb3",
        "outputId": "2976c8d5-854b-47b2-d2d7-97ba05726e9a"
      },
      "execution_count": null,
      "outputs": [
        {
          "output_type": "stream",
          "name": "stdout",
          "text": [
            "현우님 안녕하세요! \n",
            "오늘도 화이팅입니다! \n",
            "아자아자! \n",
            "재현님 안녕하세요! \n",
            "오늘도 화이팅입니다! \n",
            "아자아자! \n",
            "종룡님 안녕하세요! \n",
            "오늘도 화이팅입니다! \n",
            "아자아자! \n"
          ]
        }
      ]
    },
    {
      "cell_type": "code",
      "source": [
        "# 당근 마켓\n",
        "# 판매자와 구매자가 물품 판매 약속잡기\n",
        "# 판매자 이름, 구매자 이름, 약속 장소\n",
        "def carrot(판매자,구매자,장소):\n",
        "  print(\"{}님, 약속늦지 마시고 \".format(판매자))\n",
        "  print(\"%s님, 돈 챙겨 오시고 \"%구매자)\n",
        "  print(f\"{장소}에서 만나요! \")"
      ],
      "metadata": {
        "id": "Fi-Br1GzO3Bf"
      },
      "execution_count": null,
      "outputs": []
    },
    {
      "cell_type": "code",
      "source": [
        "seller = input(\"판매자분 성함을 입력해주세요 : \")\n",
        "buyer = input(\"구매자분 성함을 입력해주세요 : \")\n",
        "location = input(\"약속 장소를 정해주세요 : \")\n",
        "carrot(seller,buyer,location)"
      ],
      "metadata": {
        "colab": {
          "base_uri": "https://localhost:8080/"
        },
        "id": "G_lAmeZGPr1O",
        "outputId": "fd0131ba-7c68-465f-e277-2c330835db5c"
      },
      "execution_count": null,
      "outputs": [
        {
          "output_type": "stream",
          "name": "stdout",
          "text": [
            "판매자분 성함을 입력해주세요 : 쿵따\n",
            "구매자분 성함을 입력해주세요 : 주쿠\n",
            "약속 장소를 정해주세요 : 히스파니아\n",
            "히스파니아님, 약속늦지 마시고 \n",
            "쿵따님, 돈 챙겨 오시고 \n",
            "주쿠에서 만나요! \n"
          ]
        }
      ]
    },
    {
      "cell_type": "code",
      "source": [
        "def carrot(구매자,장소,판매자=\"승희\"):\n",
        "  print(\"{}님, 약속늦지 마시고 \".format(판매자))\n",
        "  print(\"%s님, 돈 챙겨 오시고 \"%구매자)\n",
        "  print(f\"{장소}에서 만나요! \")"
      ],
      "metadata": {
        "id": "_muXRtIAQYdY"
      },
      "execution_count": null,
      "outputs": []
    },
    {
      "cell_type": "code",
      "source": [
        "carrot(장소=\"미국\",구매자=\"머스크\")"
      ],
      "metadata": {
        "colab": {
          "base_uri": "https://localhost:8080/"
        },
        "id": "LJdRAlmjQdTI",
        "outputId": "98951679-ec59-4cde-fba5-55b4684bee81"
      },
      "execution_count": null,
      "outputs": [
        {
          "output_type": "stream",
          "name": "stdout",
          "text": [
            "승희님, 약속늦지 마시고 \n",
            "머스크님, 돈 챙겨 오시고 \n",
            "미국에서 만나요! \n"
          ]
        }
      ]
    },
    {
      "cell_type": "code",
      "source": [
        "def carrot(판매자,구매자,장소):\n",
        "  print(\"{}님, 약속늦지 마시고 \".format(판매자))\n",
        "  print(\"%s님, 돈 챙겨 오시고 \"%구매자)\n",
        "  print(f\"{장소}에서 만나요! \")"
      ],
      "metadata": {
        "id": "4TU1luAhRXe6"
      },
      "execution_count": null,
      "outputs": []
    },
    {
      "cell_type": "code",
      "source": [
        "content = ['예찬','태성','비엣남']\n",
        "carrot(*content)"
      ],
      "metadata": {
        "colab": {
          "base_uri": "https://localhost:8080/"
        },
        "id": "XhCjNkKfRYN3",
        "outputId": "b9e139cb-e9ed-42e9-984c-fe9a48e4b9e1"
      },
      "execution_count": null,
      "outputs": [
        {
          "output_type": "stream",
          "name": "stdout",
          "text": [
            "예찬님, 약속늦지 마시고 \n",
            "태성님, 돈 챙겨 오시고 \n",
            "비엣남에서 만나요! \n"
          ]
        }
      ]
    },
    {
      "cell_type": "code",
      "source": [
        "content_dict = {'판매자':'준재','구매자':'청룡','장소':'캐나다'}\n",
        "carrot(**content_dict)"
      ],
      "metadata": {
        "colab": {
          "base_uri": "https://localhost:8080/"
        },
        "id": "_lW3gCAMR1s0",
        "outputId": "3bb0ba9d-199e-4bb4-bb07-5621b4eb5895"
      },
      "execution_count": null,
      "outputs": [
        {
          "output_type": "stream",
          "name": "stdout",
          "text": [
            "준재님, 약속늦지 마시고 \n",
            "청룡님, 돈 챙겨 오시고 \n",
            "캐나다에서 만나요! \n"
          ]
        }
      ]
    },
    {
      "cell_type": "code",
      "source": [
        "# 위에서 dictionary를 *를 이용해서 함수에 넣었을 때 원하지 않는 결과가 나온 이유\n",
        "# 기본적으로 딕셔너리는 키를 반환을 해서 그렇습니다.\n",
        "for i in content_dict:\n",
        "  print(i)"
      ],
      "metadata": {
        "colab": {
          "base_uri": "https://localhost:8080/"
        },
        "id": "vca4EEVHSUhw",
        "outputId": "ce77c85d-fde8-47a1-b76d-08e20a8a0707"
      },
      "execution_count": null,
      "outputs": [
        {
          "output_type": "stream",
          "name": "stdout",
          "text": [
            "판매자\n",
            "구매자\n",
            "장소\n"
          ]
        }
      ]
    },
    {
      "cell_type": "code",
      "source": [
        "# 람다 함수\n",
        "def add(a,b):\n",
        "  number = a+b\n",
        "  return number\n",
        "add_lambda = lambda a , b : a+b"
      ],
      "metadata": {
        "id": "kvtQmhT-Ssvj"
      },
      "execution_count": null,
      "outputs": []
    },
    {
      "cell_type": "code",
      "source": [
        "add(3,2)"
      ],
      "metadata": {
        "colab": {
          "base_uri": "https://localhost:8080/"
        },
        "id": "dzEJyQ2qWd8X",
        "outputId": "b6a62cc4-01f4-4e8d-fc50-24e9ac54cc82"
      },
      "execution_count": null,
      "outputs": [
        {
          "output_type": "execute_result",
          "data": {
            "text/plain": [
              "5"
            ]
          },
          "metadata": {},
          "execution_count": 58
        }
      ]
    },
    {
      "cell_type": "code",
      "source": [
        "add_lambda(3,2)"
      ],
      "metadata": {
        "colab": {
          "base_uri": "https://localhost:8080/"
        },
        "id": "tF71YqnvWgZy",
        "outputId": "f22ea0af-b7aa-432b-cdb6-9df3eac38e88"
      },
      "execution_count": null,
      "outputs": [
        {
          "output_type": "execute_result",
          "data": {
            "text/plain": [
              "5"
            ]
          },
          "metadata": {},
          "execution_count": 63
        }
      ]
    },
    {
      "cell_type": "code",
      "source": [
        "strings = [\"banana\", \"cherry\",\"apple\", \"date\"]\n",
        "sorted(strings, key = lambda x : x[-2])"
      ],
      "metadata": {
        "colab": {
          "base_uri": "https://localhost:8080/"
        },
        "id": "wgr8vSNRW0Gx",
        "outputId": "e4f8e927-c200-40c1-e28f-9a485074b87b"
      },
      "execution_count": null,
      "outputs": [
        {
          "output_type": "execute_result",
          "data": {
            "text/plain": [
              "['apple', 'banana', 'cherry', 'date']"
            ]
          },
          "metadata": {},
          "execution_count": 69
        }
      ]
    },
    {
      "cell_type": "code",
      "source": [
        "def sort_func(x):\n",
        "  return x[-2]\n",
        "strings = [\"banana\", \"cherry\",\"apple\", \"date\"]\n",
        "sorted(strings,key = sort_func)"
      ],
      "metadata": {
        "colab": {
          "base_uri": "https://localhost:8080/"
        },
        "id": "tNt5yy8CYCnK",
        "outputId": "fd63a486-de0d-4874-b7a8-c774f1f7693a"
      },
      "execution_count": null,
      "outputs": [
        {
          "output_type": "execute_result",
          "data": {
            "text/plain": [
              "['apple', 'banana', 'cherry', 'date']"
            ]
          },
          "metadata": {},
          "execution_count": 70
        }
      ]
    },
    {
      "cell_type": "code",
      "source": [
        "# map\n",
        "lions = ['여진','천자','당수','동탁','덴수']\n",
        "\n",
        "# map(함수,리스트)\n",
        "list(map(lambda name : name+\" 대단해! \", lions))"
      ],
      "metadata": {
        "colab": {
          "base_uri": "https://localhost:8080/"
        },
        "id": "MKRJObUEZDH0",
        "outputId": "a21855bc-8fae-41fc-e040-68db34b4d23d"
      },
      "execution_count": null,
      "outputs": [
        {
          "output_type": "execute_result",
          "data": {
            "text/plain": [
              "['여진 대단해! ', '천자 대단해! ', '당수 대단해! ', '동탁 대단해! ', '덴수 대단해! ']"
            ]
          },
          "metadata": {},
          "execution_count": 79
        }
      ]
    },
    {
      "cell_type": "code",
      "source": [
        "# filter\n",
        "# filter(함수,리스트)\n",
        "# 이름의 마지막 글자가 \"현\"인 분을 찾아라 ~!\n",
        "list(filter(lambda x : x[-1] ==\"수\",lions))"
      ],
      "metadata": {
        "colab": {
          "base_uri": "https://localhost:8080/"
        },
        "id": "AYsPzjdYZ0rw",
        "outputId": "44852cf0-1d27-4430-c468-2f82fffd5ef9"
      },
      "execution_count": null,
      "outputs": [
        {
          "output_type": "execute_result",
          "data": {
            "text/plain": [
              "['당수', '덴수']"
            ]
          },
          "metadata": {},
          "execution_count": 80
        }
      ]
    },
    {
      "cell_type": "code",
      "source": [
        "def filter_Su(name):\n",
        "  last_char = name[-1]\n",
        "  if last_char == \"수\":\n",
        "    return True\n",
        "  else:\n",
        "    return False\n",
        "\n",
        "list(filter(filter_Su, lions))"
      ],
      "metadata": {
        "colab": {
          "base_uri": "https://localhost:8080/"
        },
        "id": "YSDzxb4tadOq",
        "outputId": "c549e570-9dad-417f-bcd8-19d69faa83f2"
      },
      "execution_count": null,
      "outputs": [
        {
          "output_type": "execute_result",
          "data": {
            "text/plain": [
              "['당수', '덴수']"
            ]
          },
          "metadata": {},
          "execution_count": 81
        }
      ]
    },
    {
      "cell_type": "code",
      "source": [
        "# 데코레이터\n",
        "\n",
        "def more_인사(func):\n",
        "  def wrapper(name):\n",
        "    func(name)\n",
        "    print(\"와자자자\")\n",
        "    return\n",
        "  return wrapper\n",
        "\n",
        "@more_인사\n",
        "def 인사(name):\n",
        "  print(f\"{name}님 안녕히 가세요!!\")\n",
        "  print(\"오늘도 수고하셨습니다\")\n",
        "  print(\"아자아자\")\n",
        "\n",
        "인사(\"현수\")"
      ],
      "metadata": {
        "colab": {
          "base_uri": "https://localhost:8080/"
        },
        "id": "EpxD87JbcJBV",
        "outputId": "314d7b18-85de-4feb-d278-81272e4c2b48"
      },
      "execution_count": null,
      "outputs": [
        {
          "output_type": "stream",
          "name": "stdout",
          "text": [
            "현수님 안녕히 가세요!!\n",
            "오늘도 수고하셨습니다\n",
            "아자아자\n",
            "와자자자\n"
          ]
        }
      ]
    },
    {
      "cell_type": "code",
      "source": [
        "def count_calls(func):\n",
        "    def wrapper(*args, **kwargs):\n",
        "        wrapper.calls += 1\n",
        "        print(f\"{func.__name__} 함수가 {wrapper.calls}번 호출되었습니다.\")\n",
        "        return func(*args, **kwargs)\n",
        "    wrapper.calls = 0\n",
        "    return wrapper\n",
        "\n",
        "@count_calls\n",
        "def example_function():\n",
        "    print(\"함수 실행 중...\")\n",
        "\n",
        "# 데코레이터를 적용한 함수 실행\n",
        "example_function()\n",
        "example_function()"
      ],
      "metadata": {
        "colab": {
          "base_uri": "https://localhost:8080/"
        },
        "id": "qj0sHCcSdy1X",
        "outputId": "d153ec4b-8757-411b-dd0b-b240c0d2c65a"
      },
      "execution_count": null,
      "outputs": [
        {
          "output_type": "stream",
          "name": "stdout",
          "text": [
            "example_function 함수가 1번 호출되었습니다.\n",
            "함수 실행 중...\n",
            "example_function 함수가 2번 호출되었습니다.\n",
            "함수 실행 중...\n"
          ]
        }
      ]
    },
    {
      "cell_type": "code",
      "source": [
        "인사.__name__"
      ],
      "metadata": {
        "colab": {
          "base_uri": "https://localhost:8080/",
          "height": 35
        },
        "id": "YKjBVGnGd07f",
        "outputId": "c051c7e6-e6db-400b-b647-bbe9ed141cc2"
      },
      "execution_count": null,
      "outputs": [
        {
          "output_type": "execute_result",
          "data": {
            "text/plain": [
              "'wrapper'"
            ],
            "application/vnd.google.colaboratory.intrinsic+json": {
              "type": "string"
            }
          },
          "metadata": {},
          "execution_count": 96
        }
      ]
    },
    {
      "cell_type": "code",
      "source": [
        "def call_member(names):\n",
        "  for name in names:\n",
        "    yield name"
      ],
      "metadata": {
        "id": "dajlMvwQd-c1"
      },
      "execution_count": null,
      "outputs": []
    },
    {
      "cell_type": "code",
      "source": [
        "for i in call_member(lions):\n",
        "  print(i)"
      ],
      "metadata": {
        "colab": {
          "base_uri": "https://localhost:8080/"
        },
        "id": "G8NN7C7keJt7",
        "outputId": "c381fe25-39ac-4137-f17a-d6104e293fa8"
      },
      "execution_count": null,
      "outputs": [
        {
          "output_type": "stream",
          "name": "stdout",
          "text": [
            "여진\n",
            "천자\n",
            "당수\n",
            "동탁\n",
            "덴수\n"
          ]
        }
      ]
    },
    {
      "cell_type": "code",
      "source": [
        "for i in lions:\n",
        "  print(i)"
      ],
      "metadata": {
        "colab": {
          "base_uri": "https://localhost:8080/"
        },
        "id": "UgR4UCFmeSDr",
        "outputId": "df15583d-dd34-4e9a-dbc5-16397c3646df"
      },
      "execution_count": null,
      "outputs": [
        {
          "output_type": "stream",
          "name": "stdout",
          "text": [
            "여진\n",
            "천자\n",
            "당수\n",
            "동탁\n",
            "덴수\n"
          ]
        }
      ]
    },
    {
      "cell_type": "code",
      "source": [
        "def whipped_cream(func):\n",
        "    def wrapper():\n",
        "        return func() + \", 휘핑크림 추가\"\n",
        "    return wrapper\n",
        "\n",
        "def syrup(func):\n",
        "    def wrapper():\n",
        "        return func() + \", 시럽 추가\"\n",
        "    return wrapper\n",
        "\n",
        "@syrup\n",
        "@whipped_cream\n",
        "def order_coffee():\n",
        "    return \"아메리카\"\n",
        "\n",
        "order_coffee()"
      ],
      "metadata": {
        "id": "lYz1ThYqe-u9",
        "colab": {
          "base_uri": "https://localhost:8080/",
          "height": 35
        },
        "outputId": "1637d848-83ee-4484-90f3-595932bb19cc"
      },
      "execution_count": null,
      "outputs": [
        {
          "output_type": "execute_result",
          "data": {
            "text/plain": [
              "'아메리카, 휘핑크림 추가, 시럽 추가'"
            ],
            "application/vnd.google.colaboratory.intrinsic+json": {
              "type": "string"
            }
          },
          "metadata": {},
          "execution_count": 112
        }
      ]
    },
    {
      "cell_type": "code",
      "source": [
        "def order_food():\n",
        "  return \"삼겹살\"\n",
        "order_food()"
      ],
      "metadata": {
        "colab": {
          "base_uri": "https://localhost:8080/",
          "height": 35
        },
        "id": "492muwIKlE9c",
        "outputId": "9c0d1055-f8f8-48fd-a4f8-fe8e3bc1b8ba"
      },
      "execution_count": null,
      "outputs": [
        {
          "output_type": "execute_result",
          "data": {
            "text/plain": [
              "'삼겹살'"
            ],
            "application/vnd.google.colaboratory.intrinsic+json": {
              "type": "string"
            }
          },
          "metadata": {},
          "execution_count": 113
        }
      ]
    },
    {
      "cell_type": "code",
      "source": [
        "@syrup\n",
        "def order_food():\n",
        "  return \"항정살\"\n",
        "order_food()"
      ],
      "metadata": {
        "colab": {
          "base_uri": "https://localhost:8080/",
          "height": 35
        },
        "id": "swYHpI0zlJAy",
        "outputId": "a2c3b269-7edc-4c1e-b048-9a5243e8dd7b"
      },
      "execution_count": null,
      "outputs": [
        {
          "output_type": "execute_result",
          "data": {
            "text/plain": [
              "'항정살, 시럽 추가'"
            ],
            "application/vnd.google.colaboratory.intrinsic+json": {
              "type": "string"
            }
          },
          "metadata": {},
          "execution_count": 114
        }
      ]
    },
    {
      "cell_type": "markdown",
      "source": [
        "# 파일 처리"
      ],
      "metadata": {
        "id": "NUAfNoFSoTf_"
      }
    },
    {
      "cell_type": "code",
      "source": [
        "# test.txt. 파일 읽기\n",
        "with open('test.txt','r') as f:\n",
        "  content = f.read()\n",
        "  print(content)"
      ],
      "metadata": {
        "colab": {
          "base_uri": "https://localhost:8080/"
        },
        "id": "0J9emozIoUQX",
        "outputId": "fa2c5071-5445-40fa-8568-463807cfea0d"
      },
      "execution_count": null,
      "outputs": [
        {
          "output_type": "stream",
          "name": "stdout",
          "text": [
            "컨텍스트 매니저(Context Manager)는 리소스(파일 작업, 네트워크 연결, 세션 관리 등)의 할당과 해제를 관리하는 파이썬 구조입니다.\n"
          ]
        }
      ]
    },
    {
      "cell_type": "code",
      "source": [
        "# 컨텍스트 매니저를 쓰는 이유는 리소스를 사용하고 그 자원을 반환하는 것을 자동을 해줍니다\n",
        "# 이후에 발생할 수 있는 문제를 예방"
      ],
      "metadata": {
        "id": "BdqV2G8qqdav"
      },
      "execution_count": null,
      "outputs": []
    },
    {
      "cell_type": "code",
      "source": [
        "# 컨텍스트 매니저를 쓰지 않고 사용할 수도 있지만, 이 때 반드시 리소스 반환을 신경써야 합니다.\n",
        "f = open(\"test.txt\", 'r')\n",
        "content = f.read()\n",
        "print(content)\n",
        "f.close() # 신경써야 합니다!"
      ],
      "metadata": {
        "colab": {
          "base_uri": "https://localhost:8080/"
        },
        "id": "0uM2-XPcpNtM",
        "outputId": "cb72397e-a77e-4fce-a7ce-6e6b7e33337f"
      },
      "execution_count": null,
      "outputs": [
        {
          "output_type": "stream",
          "name": "stdout",
          "text": [
            "컨텍스트 매니저(Context Manager)는 리소스(파일 작업, 네트워크 연결, 세션 관리 등)의 할당과 해제를 관리하는 파이썬 구조입니다.\n"
          ]
        }
      ]
    },
    {
      "cell_type": "code",
      "source": [
        "# 텍스트 파일에 쓰기\n",
        "with open(\"test.txt\", 'w') as f:\n",
        "  f.write(\"오늘도 파이썬은 무지 재미있군요!\")"
      ],
      "metadata": {
        "id": "ccjso6HxqgnW"
      },
      "execution_count": null,
      "outputs": []
    },
    {
      "cell_type": "code",
      "source": [
        "# 텍스트 파일에 쓰기\n",
        "with open(\"test.txt\", 'a') as f:\n",
        "  f.write(\"\\n파일 처리는 이렇게 하는 거군요!\")"
      ],
      "metadata": {
        "id": "Bl1w97Z_quPW"
      },
      "execution_count": null,
      "outputs": []
    },
    {
      "cell_type": "code",
      "source": [
        "# 텍스트 파일에 쓰기\n",
        "with open(\"test.txt\", 'a') as f:\n",
        "  f.write(\"\\n파일 처리는 이렇게 하는 거군요!\")"
      ],
      "metadata": {
        "id": "M7fCVO3nrFY-"
      },
      "execution_count": null,
      "outputs": []
    },
    {
      "cell_type": "markdown",
      "source": [
        "### Tip"
      ],
      "metadata": {
        "id": "EOVpg_pxsKsv"
      }
    },
    {
      "cell_type": "code",
      "source": [
        "import pandas\n",
        "\n",
        "df = pandas.read_csv(\"asd.csv\")\n",
        "df"
      ],
      "metadata": {
        "colab": {
          "base_uri": "https://localhost:8080/",
          "height": 89
        },
        "id": "-yk5JhvFs4LG",
        "outputId": "950e7485-acd6-4e34-d1d8-3dde806d09bd"
      },
      "execution_count": null,
      "outputs": [
        {
          "output_type": "execute_result",
          "data": {
            "text/plain": [
              "   3+Y314  4   2   3   1  4.1   5\n",
              "0     NaN  4 NaN NaN NaN  NaN NaN"
            ],
            "text/html": [
              "\n",
              "  <div id=\"df-e33b8479-b5f4-481a-9983-47a2aa9adac1\" class=\"colab-df-container\">\n",
              "    <div>\n",
              "<style scoped>\n",
              "    .dataframe tbody tr th:only-of-type {\n",
              "        vertical-align: middle;\n",
              "    }\n",
              "\n",
              "    .dataframe tbody tr th {\n",
              "        vertical-align: top;\n",
              "    }\n",
              "\n",
              "    .dataframe thead th {\n",
              "        text-align: right;\n",
              "    }\n",
              "</style>\n",
              "<table border=\"1\" class=\"dataframe\">\n",
              "  <thead>\n",
              "    <tr style=\"text-align: right;\">\n",
              "      <th></th>\n",
              "      <th>3+Y314</th>\n",
              "      <th>4</th>\n",
              "      <th>2</th>\n",
              "      <th>3</th>\n",
              "      <th>1</th>\n",
              "      <th>4.1</th>\n",
              "      <th>5</th>\n",
              "    </tr>\n",
              "  </thead>\n",
              "  <tbody>\n",
              "    <tr>\n",
              "      <th>0</th>\n",
              "      <td>NaN</td>\n",
              "      <td>4</td>\n",
              "      <td>NaN</td>\n",
              "      <td>NaN</td>\n",
              "      <td>NaN</td>\n",
              "      <td>NaN</td>\n",
              "      <td>NaN</td>\n",
              "    </tr>\n",
              "  </tbody>\n",
              "</table>\n",
              "</div>\n",
              "    <div class=\"colab-df-buttons\">\n",
              "\n",
              "  <div class=\"colab-df-container\">\n",
              "    <button class=\"colab-df-convert\" onclick=\"convertToInteractive('df-e33b8479-b5f4-481a-9983-47a2aa9adac1')\"\n",
              "            title=\"Convert this dataframe to an interactive table.\"\n",
              "            style=\"display:none;\">\n",
              "\n",
              "  <svg xmlns=\"http://www.w3.org/2000/svg\" height=\"24px\" viewBox=\"0 -960 960 960\">\n",
              "    <path d=\"M120-120v-720h720v720H120Zm60-500h600v-160H180v160Zm220 220h160v-160H400v160Zm0 220h160v-160H400v160ZM180-400h160v-160H180v160Zm440 0h160v-160H620v160ZM180-180h160v-160H180v160Zm440 0h160v-160H620v160Z\"/>\n",
              "  </svg>\n",
              "    </button>\n",
              "\n",
              "  <style>\n",
              "    .colab-df-container {\n",
              "      display:flex;\n",
              "      gap: 12px;\n",
              "    }\n",
              "\n",
              "    .colab-df-convert {\n",
              "      background-color: #E8F0FE;\n",
              "      border: none;\n",
              "      border-radius: 50%;\n",
              "      cursor: pointer;\n",
              "      display: none;\n",
              "      fill: #1967D2;\n",
              "      height: 32px;\n",
              "      padding: 0 0 0 0;\n",
              "      width: 32px;\n",
              "    }\n",
              "\n",
              "    .colab-df-convert:hover {\n",
              "      background-color: #E2EBFA;\n",
              "      box-shadow: 0px 1px 2px rgba(60, 64, 67, 0.3), 0px 1px 3px 1px rgba(60, 64, 67, 0.15);\n",
              "      fill: #174EA6;\n",
              "    }\n",
              "\n",
              "    .colab-df-buttons div {\n",
              "      margin-bottom: 4px;\n",
              "    }\n",
              "\n",
              "    [theme=dark] .colab-df-convert {\n",
              "      background-color: #3B4455;\n",
              "      fill: #D2E3FC;\n",
              "    }\n",
              "\n",
              "    [theme=dark] .colab-df-convert:hover {\n",
              "      background-color: #434B5C;\n",
              "      box-shadow: 0px 1px 3px 1px rgba(0, 0, 0, 0.15);\n",
              "      filter: drop-shadow(0px 1px 2px rgba(0, 0, 0, 0.3));\n",
              "      fill: #FFFFFF;\n",
              "    }\n",
              "  </style>\n",
              "\n",
              "    <script>\n",
              "      const buttonEl =\n",
              "        document.querySelector('#df-e33b8479-b5f4-481a-9983-47a2aa9adac1 button.colab-df-convert');\n",
              "      buttonEl.style.display =\n",
              "        google.colab.kernel.accessAllowed ? 'block' : 'none';\n",
              "\n",
              "      async function convertToInteractive(key) {\n",
              "        const element = document.querySelector('#df-e33b8479-b5f4-481a-9983-47a2aa9adac1');\n",
              "        const dataTable =\n",
              "          await google.colab.kernel.invokeFunction('convertToInteractive',\n",
              "                                                    [key], {});\n",
              "        if (!dataTable) return;\n",
              "\n",
              "        const docLinkHtml = 'Like what you see? Visit the ' +\n",
              "          '<a target=\"_blank\" href=https://colab.research.google.com/notebooks/data_table.ipynb>data table notebook</a>'\n",
              "          + ' to learn more about interactive tables.';\n",
              "        element.innerHTML = '';\n",
              "        dataTable['output_type'] = 'display_data';\n",
              "        await google.colab.output.renderOutput(dataTable, element);\n",
              "        const docLink = document.createElement('div');\n",
              "        docLink.innerHTML = docLinkHtml;\n",
              "        element.appendChild(docLink);\n",
              "      }\n",
              "    </script>\n",
              "  </div>\n",
              "\n",
              "\n",
              "  <div id=\"id_91a13e56-5e8f-49d7-a438-a24fbdadc403\">\n",
              "    <style>\n",
              "      .colab-df-generate {\n",
              "        background-color: #E8F0FE;\n",
              "        border: none;\n",
              "        border-radius: 50%;\n",
              "        cursor: pointer;\n",
              "        display: none;\n",
              "        fill: #1967D2;\n",
              "        height: 32px;\n",
              "        padding: 0 0 0 0;\n",
              "        width: 32px;\n",
              "      }\n",
              "\n",
              "      .colab-df-generate:hover {\n",
              "        background-color: #E2EBFA;\n",
              "        box-shadow: 0px 1px 2px rgba(60, 64, 67, 0.3), 0px 1px 3px 1px rgba(60, 64, 67, 0.15);\n",
              "        fill: #174EA6;\n",
              "      }\n",
              "\n",
              "      [theme=dark] .colab-df-generate {\n",
              "        background-color: #3B4455;\n",
              "        fill: #D2E3FC;\n",
              "      }\n",
              "\n",
              "      [theme=dark] .colab-df-generate:hover {\n",
              "        background-color: #434B5C;\n",
              "        box-shadow: 0px 1px 3px 1px rgba(0, 0, 0, 0.15);\n",
              "        filter: drop-shadow(0px 1px 2px rgba(0, 0, 0, 0.3));\n",
              "        fill: #FFFFFF;\n",
              "      }\n",
              "    </style>\n",
              "    <button class=\"colab-df-generate\" onclick=\"generateWithVariable('df')\"\n",
              "            title=\"Generate code using this dataframe.\"\n",
              "            style=\"display:none;\">\n",
              "\n",
              "  <svg xmlns=\"http://www.w3.org/2000/svg\" height=\"24px\"viewBox=\"0 0 24 24\"\n",
              "       width=\"24px\">\n",
              "    <path d=\"M7,19H8.4L18.45,9,17,7.55,7,17.6ZM5,21V16.75L18.45,3.32a2,2,0,0,1,2.83,0l1.4,1.43a1.91,1.91,0,0,1,.58,1.4,1.91,1.91,0,0,1-.58,1.4L9.25,21ZM18.45,9,17,7.55Zm-12,3A5.31,5.31,0,0,0,4.9,8.1,5.31,5.31,0,0,0,1,6.5,5.31,5.31,0,0,0,4.9,4.9,5.31,5.31,0,0,0,6.5,1,5.31,5.31,0,0,0,8.1,4.9,5.31,5.31,0,0,0,12,6.5,5.46,5.46,0,0,0,6.5,12Z\"/>\n",
              "  </svg>\n",
              "    </button>\n",
              "    <script>\n",
              "      (() => {\n",
              "      const buttonEl =\n",
              "        document.querySelector('#id_91a13e56-5e8f-49d7-a438-a24fbdadc403 button.colab-df-generate');\n",
              "      buttonEl.style.display =\n",
              "        google.colab.kernel.accessAllowed ? 'block' : 'none';\n",
              "\n",
              "      buttonEl.onclick = () => {\n",
              "        google.colab.notebook.generateWithVariable('df');\n",
              "      }\n",
              "      })();\n",
              "    </script>\n",
              "  </div>\n",
              "\n",
              "    </div>\n",
              "  </div>\n"
            ],
            "application/vnd.google.colaboratory.intrinsic+json": {
              "type": "dataframe",
              "variable_name": "df",
              "summary": "{\n  \"name\": \"df\",\n  \"rows\": 1,\n  \"fields\": [\n    {\n      \"column\": \"3+Y314\",\n      \"properties\": {\n        \"dtype\": \"number\",\n        \"std\": null,\n        \"min\": null,\n        \"max\": null,\n        \"num_unique_values\": 0,\n        \"samples\": [],\n        \"semantic_type\": \"\",\n        \"description\": \"\"\n      }\n    },\n    {\n      \"column\": \"4\",\n      \"properties\": {\n        \"dtype\": \"number\",\n        \"std\": null,\n        \"min\": 4,\n        \"max\": 4,\n        \"num_unique_values\": 1,\n        \"samples\": [],\n        \"semantic_type\": \"\",\n        \"description\": \"\"\n      }\n    },\n    {\n      \"column\": \"2\",\n      \"properties\": {\n        \"dtype\": \"number\",\n        \"std\": null,\n        \"min\": null,\n        \"max\": null,\n        \"num_unique_values\": 0,\n        \"samples\": [],\n        \"semantic_type\": \"\",\n        \"description\": \"\"\n      }\n    },\n    {\n      \"column\": \"3\",\n      \"properties\": {\n        \"dtype\": \"number\",\n        \"std\": null,\n        \"min\": null,\n        \"max\": null,\n        \"num_unique_values\": 0,\n        \"samples\": [],\n        \"semantic_type\": \"\",\n        \"description\": \"\"\n      }\n    },\n    {\n      \"column\": \"1\",\n      \"properties\": {\n        \"dtype\": \"number\",\n        \"std\": null,\n        \"min\": null,\n        \"max\": null,\n        \"num_unique_values\": 0,\n        \"samples\": [],\n        \"semantic_type\": \"\",\n        \"description\": \"\"\n      }\n    },\n    {\n      \"column\": \"4.1\",\n      \"properties\": {\n        \"dtype\": \"number\",\n        \"std\": null,\n        \"min\": null,\n        \"max\": null,\n        \"num_unique_values\": 0,\n        \"samples\": [],\n        \"semantic_type\": \"\",\n        \"description\": \"\"\n      }\n    },\n    {\n      \"column\": \"5\",\n      \"properties\": {\n        \"dtype\": \"number\",\n        \"std\": null,\n        \"min\": null,\n        \"max\": null,\n        \"num_unique_values\": 0,\n        \"samples\": [],\n        \"semantic_type\": \"\",\n        \"description\": \"\"\n      }\n    }\n  ]\n}"
            }
          },
          "metadata": {},
          "execution_count": 146
        }
      ]
    },
    {
      "cell_type": "code",
      "source": [
        "new_df = pandas.DataFrame(['기업','설현'])\n",
        "new_df.to_csv(\"new_test.csv\")\n",
        "new_df"
      ],
      "metadata": {
        "colab": {
          "base_uri": "https://localhost:8080/",
          "height": 125
        },
        "id": "QF1qGpI_tfPY",
        "outputId": "0fee09da-f8ae-4deb-99de-59b7c4d084be"
      },
      "execution_count": null,
      "outputs": [
        {
          "output_type": "execute_result",
          "data": {
            "text/plain": [
              "    0\n",
              "0  기업\n",
              "1  설현"
            ],
            "text/html": [
              "\n",
              "  <div id=\"df-15e4f5ce-edd6-46c6-b7f1-c76cd5b6ca7b\" class=\"colab-df-container\">\n",
              "    <div>\n",
              "<style scoped>\n",
              "    .dataframe tbody tr th:only-of-type {\n",
              "        vertical-align: middle;\n",
              "    }\n",
              "\n",
              "    .dataframe tbody tr th {\n",
              "        vertical-align: top;\n",
              "    }\n",
              "\n",
              "    .dataframe thead th {\n",
              "        text-align: right;\n",
              "    }\n",
              "</style>\n",
              "<table border=\"1\" class=\"dataframe\">\n",
              "  <thead>\n",
              "    <tr style=\"text-align: right;\">\n",
              "      <th></th>\n",
              "      <th>0</th>\n",
              "    </tr>\n",
              "  </thead>\n",
              "  <tbody>\n",
              "    <tr>\n",
              "      <th>0</th>\n",
              "      <td>기업</td>\n",
              "    </tr>\n",
              "    <tr>\n",
              "      <th>1</th>\n",
              "      <td>설현</td>\n",
              "    </tr>\n",
              "  </tbody>\n",
              "</table>\n",
              "</div>\n",
              "    <div class=\"colab-df-buttons\">\n",
              "\n",
              "  <div class=\"colab-df-container\">\n",
              "    <button class=\"colab-df-convert\" onclick=\"convertToInteractive('df-15e4f5ce-edd6-46c6-b7f1-c76cd5b6ca7b')\"\n",
              "            title=\"Convert this dataframe to an interactive table.\"\n",
              "            style=\"display:none;\">\n",
              "\n",
              "  <svg xmlns=\"http://www.w3.org/2000/svg\" height=\"24px\" viewBox=\"0 -960 960 960\">\n",
              "    <path d=\"M120-120v-720h720v720H120Zm60-500h600v-160H180v160Zm220 220h160v-160H400v160Zm0 220h160v-160H400v160ZM180-400h160v-160H180v160Zm440 0h160v-160H620v160ZM180-180h160v-160H180v160Zm440 0h160v-160H620v160Z\"/>\n",
              "  </svg>\n",
              "    </button>\n",
              "\n",
              "  <style>\n",
              "    .colab-df-container {\n",
              "      display:flex;\n",
              "      gap: 12px;\n",
              "    }\n",
              "\n",
              "    .colab-df-convert {\n",
              "      background-color: #E8F0FE;\n",
              "      border: none;\n",
              "      border-radius: 50%;\n",
              "      cursor: pointer;\n",
              "      display: none;\n",
              "      fill: #1967D2;\n",
              "      height: 32px;\n",
              "      padding: 0 0 0 0;\n",
              "      width: 32px;\n",
              "    }\n",
              "\n",
              "    .colab-df-convert:hover {\n",
              "      background-color: #E2EBFA;\n",
              "      box-shadow: 0px 1px 2px rgba(60, 64, 67, 0.3), 0px 1px 3px 1px rgba(60, 64, 67, 0.15);\n",
              "      fill: #174EA6;\n",
              "    }\n",
              "\n",
              "    .colab-df-buttons div {\n",
              "      margin-bottom: 4px;\n",
              "    }\n",
              "\n",
              "    [theme=dark] .colab-df-convert {\n",
              "      background-color: #3B4455;\n",
              "      fill: #D2E3FC;\n",
              "    }\n",
              "\n",
              "    [theme=dark] .colab-df-convert:hover {\n",
              "      background-color: #434B5C;\n",
              "      box-shadow: 0px 1px 3px 1px rgba(0, 0, 0, 0.15);\n",
              "      filter: drop-shadow(0px 1px 2px rgba(0, 0, 0, 0.3));\n",
              "      fill: #FFFFFF;\n",
              "    }\n",
              "  </style>\n",
              "\n",
              "    <script>\n",
              "      const buttonEl =\n",
              "        document.querySelector('#df-15e4f5ce-edd6-46c6-b7f1-c76cd5b6ca7b button.colab-df-convert');\n",
              "      buttonEl.style.display =\n",
              "        google.colab.kernel.accessAllowed ? 'block' : 'none';\n",
              "\n",
              "      async function convertToInteractive(key) {\n",
              "        const element = document.querySelector('#df-15e4f5ce-edd6-46c6-b7f1-c76cd5b6ca7b');\n",
              "        const dataTable =\n",
              "          await google.colab.kernel.invokeFunction('convertToInteractive',\n",
              "                                                    [key], {});\n",
              "        if (!dataTable) return;\n",
              "\n",
              "        const docLinkHtml = 'Like what you see? Visit the ' +\n",
              "          '<a target=\"_blank\" href=https://colab.research.google.com/notebooks/data_table.ipynb>data table notebook</a>'\n",
              "          + ' to learn more about interactive tables.';\n",
              "        element.innerHTML = '';\n",
              "        dataTable['output_type'] = 'display_data';\n",
              "        await google.colab.output.renderOutput(dataTable, element);\n",
              "        const docLink = document.createElement('div');\n",
              "        docLink.innerHTML = docLinkHtml;\n",
              "        element.appendChild(docLink);\n",
              "      }\n",
              "    </script>\n",
              "  </div>\n",
              "\n",
              "\n",
              "<div id=\"df-b2e06ecd-eeea-4f14-b4bc-b94762d75e0f\">\n",
              "  <button class=\"colab-df-quickchart\" onclick=\"quickchart('df-b2e06ecd-eeea-4f14-b4bc-b94762d75e0f')\"\n",
              "            title=\"Suggest charts\"\n",
              "            style=\"display:none;\">\n",
              "\n",
              "<svg xmlns=\"http://www.w3.org/2000/svg\" height=\"24px\"viewBox=\"0 0 24 24\"\n",
              "     width=\"24px\">\n",
              "    <g>\n",
              "        <path d=\"M19 3H5c-1.1 0-2 .9-2 2v14c0 1.1.9 2 2 2h14c1.1 0 2-.9 2-2V5c0-1.1-.9-2-2-2zM9 17H7v-7h2v7zm4 0h-2V7h2v10zm4 0h-2v-4h2v4z\"/>\n",
              "    </g>\n",
              "</svg>\n",
              "  </button>\n",
              "\n",
              "<style>\n",
              "  .colab-df-quickchart {\n",
              "      --bg-color: #E8F0FE;\n",
              "      --fill-color: #1967D2;\n",
              "      --hover-bg-color: #E2EBFA;\n",
              "      --hover-fill-color: #174EA6;\n",
              "      --disabled-fill-color: #AAA;\n",
              "      --disabled-bg-color: #DDD;\n",
              "  }\n",
              "\n",
              "  [theme=dark] .colab-df-quickchart {\n",
              "      --bg-color: #3B4455;\n",
              "      --fill-color: #D2E3FC;\n",
              "      --hover-bg-color: #434B5C;\n",
              "      --hover-fill-color: #FFFFFF;\n",
              "      --disabled-bg-color: #3B4455;\n",
              "      --disabled-fill-color: #666;\n",
              "  }\n",
              "\n",
              "  .colab-df-quickchart {\n",
              "    background-color: var(--bg-color);\n",
              "    border: none;\n",
              "    border-radius: 50%;\n",
              "    cursor: pointer;\n",
              "    display: none;\n",
              "    fill: var(--fill-color);\n",
              "    height: 32px;\n",
              "    padding: 0;\n",
              "    width: 32px;\n",
              "  }\n",
              "\n",
              "  .colab-df-quickchart:hover {\n",
              "    background-color: var(--hover-bg-color);\n",
              "    box-shadow: 0 1px 2px rgba(60, 64, 67, 0.3), 0 1px 3px 1px rgba(60, 64, 67, 0.15);\n",
              "    fill: var(--button-hover-fill-color);\n",
              "  }\n",
              "\n",
              "  .colab-df-quickchart-complete:disabled,\n",
              "  .colab-df-quickchart-complete:disabled:hover {\n",
              "    background-color: var(--disabled-bg-color);\n",
              "    fill: var(--disabled-fill-color);\n",
              "    box-shadow: none;\n",
              "  }\n",
              "\n",
              "  .colab-df-spinner {\n",
              "    border: 2px solid var(--fill-color);\n",
              "    border-color: transparent;\n",
              "    border-bottom-color: var(--fill-color);\n",
              "    animation:\n",
              "      spin 1s steps(1) infinite;\n",
              "  }\n",
              "\n",
              "  @keyframes spin {\n",
              "    0% {\n",
              "      border-color: transparent;\n",
              "      border-bottom-color: var(--fill-color);\n",
              "      border-left-color: var(--fill-color);\n",
              "    }\n",
              "    20% {\n",
              "      border-color: transparent;\n",
              "      border-left-color: var(--fill-color);\n",
              "      border-top-color: var(--fill-color);\n",
              "    }\n",
              "    30% {\n",
              "      border-color: transparent;\n",
              "      border-left-color: var(--fill-color);\n",
              "      border-top-color: var(--fill-color);\n",
              "      border-right-color: var(--fill-color);\n",
              "    }\n",
              "    40% {\n",
              "      border-color: transparent;\n",
              "      border-right-color: var(--fill-color);\n",
              "      border-top-color: var(--fill-color);\n",
              "    }\n",
              "    60% {\n",
              "      border-color: transparent;\n",
              "      border-right-color: var(--fill-color);\n",
              "    }\n",
              "    80% {\n",
              "      border-color: transparent;\n",
              "      border-right-color: var(--fill-color);\n",
              "      border-bottom-color: var(--fill-color);\n",
              "    }\n",
              "    90% {\n",
              "      border-color: transparent;\n",
              "      border-bottom-color: var(--fill-color);\n",
              "    }\n",
              "  }\n",
              "</style>\n",
              "\n",
              "  <script>\n",
              "    async function quickchart(key) {\n",
              "      const quickchartButtonEl =\n",
              "        document.querySelector('#' + key + ' button');\n",
              "      quickchartButtonEl.disabled = true;  // To prevent multiple clicks.\n",
              "      quickchartButtonEl.classList.add('colab-df-spinner');\n",
              "      try {\n",
              "        const charts = await google.colab.kernel.invokeFunction(\n",
              "            'suggestCharts', [key], {});\n",
              "      } catch (error) {\n",
              "        console.error('Error during call to suggestCharts:', error);\n",
              "      }\n",
              "      quickchartButtonEl.classList.remove('colab-df-spinner');\n",
              "      quickchartButtonEl.classList.add('colab-df-quickchart-complete');\n",
              "    }\n",
              "    (() => {\n",
              "      let quickchartButtonEl =\n",
              "        document.querySelector('#df-b2e06ecd-eeea-4f14-b4bc-b94762d75e0f button');\n",
              "      quickchartButtonEl.style.display =\n",
              "        google.colab.kernel.accessAllowed ? 'block' : 'none';\n",
              "    })();\n",
              "  </script>\n",
              "</div>\n",
              "\n",
              "  <div id=\"id_edadb795-3740-4604-9da4-b7e4bb960d41\">\n",
              "    <style>\n",
              "      .colab-df-generate {\n",
              "        background-color: #E8F0FE;\n",
              "        border: none;\n",
              "        border-radius: 50%;\n",
              "        cursor: pointer;\n",
              "        display: none;\n",
              "        fill: #1967D2;\n",
              "        height: 32px;\n",
              "        padding: 0 0 0 0;\n",
              "        width: 32px;\n",
              "      }\n",
              "\n",
              "      .colab-df-generate:hover {\n",
              "        background-color: #E2EBFA;\n",
              "        box-shadow: 0px 1px 2px rgba(60, 64, 67, 0.3), 0px 1px 3px 1px rgba(60, 64, 67, 0.15);\n",
              "        fill: #174EA6;\n",
              "      }\n",
              "\n",
              "      [theme=dark] .colab-df-generate {\n",
              "        background-color: #3B4455;\n",
              "        fill: #D2E3FC;\n",
              "      }\n",
              "\n",
              "      [theme=dark] .colab-df-generate:hover {\n",
              "        background-color: #434B5C;\n",
              "        box-shadow: 0px 1px 3px 1px rgba(0, 0, 0, 0.15);\n",
              "        filter: drop-shadow(0px 1px 2px rgba(0, 0, 0, 0.3));\n",
              "        fill: #FFFFFF;\n",
              "      }\n",
              "    </style>\n",
              "    <button class=\"colab-df-generate\" onclick=\"generateWithVariable('new_df')\"\n",
              "            title=\"Generate code using this dataframe.\"\n",
              "            style=\"display:none;\">\n",
              "\n",
              "  <svg xmlns=\"http://www.w3.org/2000/svg\" height=\"24px\"viewBox=\"0 0 24 24\"\n",
              "       width=\"24px\">\n",
              "    <path d=\"M7,19H8.4L18.45,9,17,7.55,7,17.6ZM5,21V16.75L18.45,3.32a2,2,0,0,1,2.83,0l1.4,1.43a1.91,1.91,0,0,1,.58,1.4,1.91,1.91,0,0,1-.58,1.4L9.25,21ZM18.45,9,17,7.55Zm-12,3A5.31,5.31,0,0,0,4.9,8.1,5.31,5.31,0,0,0,1,6.5,5.31,5.31,0,0,0,4.9,4.9,5.31,5.31,0,0,0,6.5,1,5.31,5.31,0,0,0,8.1,4.9,5.31,5.31,0,0,0,12,6.5,5.46,5.46,0,0,0,6.5,12Z\"/>\n",
              "  </svg>\n",
              "    </button>\n",
              "    <script>\n",
              "      (() => {\n",
              "      const buttonEl =\n",
              "        document.querySelector('#id_edadb795-3740-4604-9da4-b7e4bb960d41 button.colab-df-generate');\n",
              "      buttonEl.style.display =\n",
              "        google.colab.kernel.accessAllowed ? 'block' : 'none';\n",
              "\n",
              "      buttonEl.onclick = () => {\n",
              "        google.colab.notebook.generateWithVariable('new_df');\n",
              "      }\n",
              "      })();\n",
              "    </script>\n",
              "  </div>\n",
              "\n",
              "    </div>\n",
              "  </div>\n"
            ],
            "application/vnd.google.colaboratory.intrinsic+json": {
              "type": "dataframe",
              "variable_name": "new_df",
              "summary": "{\n  \"name\": \"new_df\",\n  \"rows\": 2,\n  \"fields\": [\n    {\n      \"column\": 0,\n      \"properties\": {\n        \"dtype\": \"string\",\n        \"num_unique_values\": 2,\n        \"samples\": [\n          \"\\uc124\\ud604\",\n          \"\\uae30\\uc5c5\"\n        ],\n        \"semantic_type\": \"\",\n        \"description\": \"\"\n      }\n    }\n  ]\n}"
            }
          },
          "metadata": {},
          "execution_count": 149
        }
      ]
    },
    {
      "cell_type": "code",
      "source": [
        "print(\"Hello)"
      ],
      "metadata": {
        "colab": {
          "base_uri": "https://localhost:8080/",
          "height": 106
        },
        "id": "3a-XeAFxBA8P",
        "outputId": "66d6d359-2948-476a-9d67-d5ea3c58722b"
      },
      "execution_count": null,
      "outputs": [
        {
          "output_type": "error",
          "ename": "SyntaxError",
          "evalue": "unterminated string literal (detected at line 1) (<ipython-input-151-e8dd6fae58d9>, line 1)",
          "traceback": [
            "\u001b[0;36m  File \u001b[0;32m\"<ipython-input-151-e8dd6fae58d9>\"\u001b[0;36m, line \u001b[0;32m1\u001b[0m\n\u001b[0;31m    print(\"Hello)\u001b[0m\n\u001b[0m          ^\u001b[0m\n\u001b[0;31mSyntaxError\u001b[0m\u001b[0;31m:\u001b[0m unterminated string literal (detected at line 1)\n"
          ]
        }
      ]
    },
    {
      "cell_type": "code",
      "source": [
        "1/0"
      ],
      "metadata": {
        "colab": {
          "base_uri": "https://localhost:8080/",
          "height": 141
        },
        "id": "Vlm1oMPgA8Uk",
        "outputId": "e96143e6-f3f9-437f-dd05-fc14d3614bb9"
      },
      "execution_count": null,
      "outputs": [
        {
          "output_type": "error",
          "ename": "ZeroDivisionError",
          "evalue": "division by zero",
          "traceback": [
            "\u001b[0;31m---------------------------------------------------------------------------\u001b[0m",
            "\u001b[0;31mZeroDivisionError\u001b[0m                         Traceback (most recent call last)",
            "\u001b[0;32m<ipython-input-150-9e1622b385b6>\u001b[0m in \u001b[0;36m<cell line: 1>\u001b[0;34m()\u001b[0m\n\u001b[0;32m----> 1\u001b[0;31m \u001b[0;36m1\u001b[0m\u001b[0;34m/\u001b[0m\u001b[0;36m0\u001b[0m\u001b[0;34m\u001b[0m\u001b[0;34m\u001b[0m\u001b[0m\n\u001b[0m",
            "\u001b[0;31mZeroDivisionError\u001b[0m: division by zero"
          ]
        }
      ]
    },
    {
      "cell_type": "code",
      "source": [
        "a = [1,2,3,4,5]\n",
        "a[5]"
      ],
      "metadata": {
        "colab": {
          "base_uri": "https://localhost:8080/",
          "height": 158
        },
        "id": "ZgPFO3tmBEog",
        "outputId": "88f36cce-dd41-4422-c3cb-28797e0bf4a7"
      },
      "execution_count": null,
      "outputs": [
        {
          "output_type": "error",
          "ename": "IndexError",
          "evalue": "list index out of range",
          "traceback": [
            "\u001b[0;31m---------------------------------------------------------------------------\u001b[0m",
            "\u001b[0;31mIndexError\u001b[0m                                Traceback (most recent call last)",
            "\u001b[0;32m<ipython-input-154-3a0cc04c6ca9>\u001b[0m in \u001b[0;36m<cell line: 2>\u001b[0;34m()\u001b[0m\n\u001b[1;32m      1\u001b[0m \u001b[0ma\u001b[0m \u001b[0;34m=\u001b[0m \u001b[0;34m[\u001b[0m\u001b[0;36m1\u001b[0m\u001b[0;34m,\u001b[0m\u001b[0;36m2\u001b[0m\u001b[0;34m,\u001b[0m\u001b[0;36m3\u001b[0m\u001b[0;34m,\u001b[0m\u001b[0;36m4\u001b[0m\u001b[0;34m,\u001b[0m\u001b[0;36m5\u001b[0m\u001b[0;34m]\u001b[0m\u001b[0;34m\u001b[0m\u001b[0;34m\u001b[0m\u001b[0m\n\u001b[0;32m----> 2\u001b[0;31m \u001b[0ma\u001b[0m\u001b[0;34m[\u001b[0m\u001b[0;36m5\u001b[0m\u001b[0;34m]\u001b[0m\u001b[0;34m\u001b[0m\u001b[0;34m\u001b[0m\u001b[0m\n\u001b[0m",
            "\u001b[0;31mIndexError\u001b[0m: list index out of range"
          ]
        }
      ]
    },
    {
      "cell_type": "code",
      "source": [
        "a= {'a':1,\"b\":2}\n",
        "a['c']"
      ],
      "metadata": {
        "colab": {
          "base_uri": "https://localhost:8080/",
          "height": 158
        },
        "id": "5RhRtbCuBKLN",
        "outputId": "a65e0bdc-2152-43bf-fce8-236cac2354fb"
      },
      "execution_count": null,
      "outputs": [
        {
          "output_type": "error",
          "ename": "KeyError",
          "evalue": "'c'",
          "traceback": [
            "\u001b[0;31m---------------------------------------------------------------------------\u001b[0m",
            "\u001b[0;31mKeyError\u001b[0m                                  Traceback (most recent call last)",
            "\u001b[0;32m<ipython-input-161-89d5ea773fb8>\u001b[0m in \u001b[0;36m<cell line: 2>\u001b[0;34m()\u001b[0m\n\u001b[1;32m      1\u001b[0m \u001b[0ma\u001b[0m\u001b[0;34m=\u001b[0m \u001b[0;34m{\u001b[0m\u001b[0;34m'a'\u001b[0m\u001b[0;34m:\u001b[0m\u001b[0;36m1\u001b[0m\u001b[0;34m,\u001b[0m\u001b[0;34m\"b\"\u001b[0m\u001b[0;34m:\u001b[0m\u001b[0;36m2\u001b[0m\u001b[0;34m}\u001b[0m\u001b[0;34m\u001b[0m\u001b[0;34m\u001b[0m\u001b[0m\n\u001b[0;32m----> 2\u001b[0;31m \u001b[0ma\u001b[0m\u001b[0;34m[\u001b[0m\u001b[0;34m'c'\u001b[0m\u001b[0;34m]\u001b[0m\u001b[0;34m\u001b[0m\u001b[0;34m\u001b[0m\u001b[0m\n\u001b[0m",
            "\u001b[0;31mKeyError\u001b[0m: 'c'"
          ]
        }
      ]
    },
    {
      "cell_type": "code",
      "source": [
        "try:\n",
        "  with open('test1.txt','r') as f:\n",
        "    content = f.read()\n",
        "  print(content)\n",
        "except FileNotFoundError:\n",
        "  print('예외가 발생했습니다')\n",
        "finally:\n",
        "  print('작업완료')"
      ],
      "metadata": {
        "colab": {
          "base_uri": "https://localhost:8080/"
        },
        "id": "POAjyToHBZaA",
        "outputId": "a78a4111-0f4f-42c9-9569-e1229f044bb1"
      },
      "execution_count": null,
      "outputs": [
        {
          "output_type": "stream",
          "name": "stdout",
          "text": [
            "예외가 발생했습니다\n",
            "작업완료\n"
          ]
        }
      ]
    },
    {
      "cell_type": "code",
      "source": [
        "try:\n",
        "  with open('test1.txt','r') as f:\n",
        "    content = f.read()\n",
        "  print(content)\n",
        "except FileNotFoundError:\n",
        "  print('파일을 찾을 수 없습니다! ')\n",
        "finally:\n",
        "  print('작업완료')"
      ],
      "metadata": {
        "colab": {
          "base_uri": "https://localhost:8080/"
        },
        "id": "FtD8v35tCXjQ",
        "outputId": "204c5e67-877c-47e0-bf13-c5fb822827f4"
      },
      "execution_count": null,
      "outputs": [
        {
          "output_type": "stream",
          "name": "stdout",
          "text": [
            "파일을 찾을 수 없습니다! \n",
            "작업완료\n"
          ]
        }
      ]
    },
    {
      "cell_type": "code",
      "source": [
        "a = '123번'\n",
        "int(a)"
      ],
      "metadata": {
        "colab": {
          "base_uri": "https://localhost:8080/",
          "height": 158
        },
        "id": "p5BTknWpDMga",
        "outputId": "ade40c51-7404-4151-f1e3-4f1917200f43"
      },
      "execution_count": null,
      "outputs": [
        {
          "output_type": "error",
          "ename": "ValueError",
          "evalue": "invalid literal for int() with base 10: '123번'",
          "traceback": [
            "\u001b[0;31m---------------------------------------------------------------------------\u001b[0m",
            "\u001b[0;31mValueError\u001b[0m                                Traceback (most recent call last)",
            "\u001b[0;32m<ipython-input-202-45956f744002>\u001b[0m in \u001b[0;36m<cell line: 2>\u001b[0;34m()\u001b[0m\n\u001b[1;32m      1\u001b[0m \u001b[0ma\u001b[0m \u001b[0;34m=\u001b[0m \u001b[0;34m'123번'\u001b[0m\u001b[0;34m\u001b[0m\u001b[0;34m\u001b[0m\u001b[0m\n\u001b[0;32m----> 2\u001b[0;31m \u001b[0mint\u001b[0m\u001b[0;34m(\u001b[0m\u001b[0ma\u001b[0m\u001b[0;34m)\u001b[0m\u001b[0;34m\u001b[0m\u001b[0;34m\u001b[0m\u001b[0m\n\u001b[0m",
            "\u001b[0;31mValueError\u001b[0m: invalid literal for int() with base 10: '123번'"
          ]
        }
      ]
    },
    {
      "cell_type": "code",
      "source": [
        "with open('test.txt','r') as f:\n",
        "  content = f.read()\n",
        "  content = int(content)\n",
        "content"
      ],
      "metadata": {
        "colab": {
          "base_uri": "https://localhost:8080/",
          "height": 193
        },
        "id": "MrslIf10DD4y",
        "outputId": "46882fba-0e81-4764-bc90-abb25a620a69"
      },
      "execution_count": null,
      "outputs": [
        {
          "output_type": "error",
          "ename": "ValueError",
          "evalue": "invalid literal for int() with base 10: '123소정\\n'",
          "traceback": [
            "\u001b[0;31m---------------------------------------------------------------------------\u001b[0m",
            "\u001b[0;31mValueError\u001b[0m                                Traceback (most recent call last)",
            "\u001b[0;32m<ipython-input-208-c5e914e350c0>\u001b[0m in \u001b[0;36m<cell line: 1>\u001b[0;34m()\u001b[0m\n\u001b[1;32m      1\u001b[0m \u001b[0;32mwith\u001b[0m \u001b[0mopen\u001b[0m\u001b[0;34m(\u001b[0m\u001b[0;34m'test.txt'\u001b[0m\u001b[0;34m,\u001b[0m\u001b[0;34m'r'\u001b[0m\u001b[0;34m)\u001b[0m \u001b[0;32mas\u001b[0m \u001b[0mf\u001b[0m\u001b[0;34m:\u001b[0m\u001b[0;34m\u001b[0m\u001b[0;34m\u001b[0m\u001b[0m\n\u001b[1;32m      2\u001b[0m   \u001b[0mcontent\u001b[0m \u001b[0;34m=\u001b[0m \u001b[0mf\u001b[0m\u001b[0;34m.\u001b[0m\u001b[0mread\u001b[0m\u001b[0;34m(\u001b[0m\u001b[0;34m)\u001b[0m\u001b[0;34m\u001b[0m\u001b[0;34m\u001b[0m\u001b[0m\n\u001b[0;32m----> 3\u001b[0;31m   \u001b[0mcontent\u001b[0m \u001b[0;34m=\u001b[0m \u001b[0mint\u001b[0m\u001b[0;34m(\u001b[0m\u001b[0mcontent\u001b[0m\u001b[0;34m)\u001b[0m\u001b[0;34m\u001b[0m\u001b[0;34m\u001b[0m\u001b[0m\n\u001b[0m\u001b[1;32m      4\u001b[0m \u001b[0mcontent\u001b[0m\u001b[0;34m\u001b[0m\u001b[0;34m\u001b[0m\u001b[0m\n",
            "\u001b[0;31mValueError\u001b[0m: invalid literal for int() with base 10: '123소정\\n'"
          ]
        }
      ]
    },
    {
      "cell_type": "code",
      "source": [
        "file_list = ['test.txt', 'test1.txt', 'test6.txt']\n",
        "for file_name in file_list:\n",
        "  try:\n",
        "    with open(file_name, 'r') as file:\n",
        "      content = file.read()\n",
        "      number = int(content)\n",
        "      print(number**2)\n",
        "      # print(number/0)\n",
        "  except FileNotFoundError:\n",
        "    print(\"파일을 찾을 수가 없네요. 확인해 주세요\")\n",
        "  except ValueError:\n",
        "    print(\"내용을 확인할 필요가 있습니다.\")\n",
        "  except Exception as e:\n",
        "    print(e)"
      ],
      "metadata": {
        "colab": {
          "base_uri": "https://localhost:8080/"
        },
        "id": "mfRWo-roD0Gy",
        "outputId": "6e52e7bc-55f8-4937-f826-46e89297363d"
      },
      "execution_count": null,
      "outputs": [
        {
          "output_type": "stream",
          "name": "stdout",
          "text": [
            "9\n",
            "내용을 확인할 필요가 있습니다.\n",
            "파일을 찾을 수가 없네요. 확인해 주세요\n"
          ]
        }
      ]
    },
    {
      "cell_type": "code",
      "source": [
        "# 예외 발생 시키기\n",
        "def divide(x, y):\n",
        "  if y == 0:\n",
        "    raise ValueError(\"0으로 나누면 안되죠!\")\n",
        "  return x/y\n",
        "\n",
        "try:\n",
        "  num = divide(5,0)\n",
        "  print(num)\n",
        "except ValueError as e:\n",
        "  print(e)"
      ],
      "metadata": {
        "colab": {
          "base_uri": "https://localhost:8080/"
        },
        "id": "OXkCZQqlGXWc",
        "outputId": "11455266-307f-4040-a1fa-08f9519af494"
      },
      "execution_count": null,
      "outputs": [
        {
          "output_type": "stream",
          "name": "stdout",
          "text": [
            "0으로 나누면 안되죠!\n"
          ]
        }
      ]
    },
    {
      "cell_type": "code",
      "source": [
        "# 음식 배달 서비스 시스템\n",
        "# 배경 : 고객이 음식을 주문하면 시스템은 주문을 처리하고 배달 상태를 관리, 재고 관리\n",
        "\n",
        "## 고려사항\n",
        "# 1. 주문 접수 : 고객의 주문을 받고, 내역을 확인\n",
        "# 2. 재고 확인\n",
        "# 3. 예외 처리 : 재고가 없거나 유효하지 않은 주문에 대한 처리\n",
        "# 4. 배달 상태 관리 : 주문이 완료되면, 배달 상태를 업데이트 합니다.\n",
        "menu_n_stock = {'라멘':10,'하몬':15,'감바스':20,'카레':5,'파스타':100,'빠에야':0,'제로콜라':25}\n",
        "delivery_status = ['배달 준비','배달 중','배달 완료']\n",
        "def food_shop():\n",
        "  print('='*50)\n",
        "  print('음식 배달 서비스 입니다 반갑습니다!')\n",
        "  print(f'저희 가게 메뉴입니다 {list(menu_n_stock.keys())}')\n",
        "  order = input(\"원하시는 메뉴를 선택해주세요 : \")\n",
        "\n",
        "  if order in menu_n_stock:\n",
        "    print(f'선택하신 메뉴는 {order} 입니다.')\n",
        "    order_count = int(input('원하시는 수량을 선택해주세요 : '))\n",
        "    if order_count > menu_n_stock[order]:\n",
        "      print('재고를 초과하였습니다. 다시 선택해주세요')\n",
        "    else:\n",
        "      print('주문해주셔서 감사합니다!')\n",
        "      for status in delivery_status:\n",
        "        print(status)\n",
        "      print('맛있게 드세요!')\n",
        "      menu_n_stock[order] -= order_count\n",
        "      print('남은 재고 확인')\n",
        "      print(menu_n_stock)\n",
        "  else:\n",
        "    print('해당 메뉴는 존재하지 않습니다 다시 선택해주세요')"
      ],
      "metadata": {
        "id": "RYQ2W2GiH-rj"
      },
      "execution_count": null,
      "outputs": []
    },
    {
      "cell_type": "code",
      "source": [
        "for i in range(3):\n",
        "  food_shop()"
      ],
      "metadata": {
        "colab": {
          "base_uri": "https://localhost:8080/"
        },
        "id": "rqbigxC1dzw8",
        "outputId": "190d454d-b1fd-4e29-fc6e-9a608dc625e7"
      },
      "execution_count": null,
      "outputs": [
        {
          "output_type": "stream",
          "name": "stdout",
          "text": [
            "==================================================\n",
            "음식 배달 서비스 입니다 반갑습니다!\n",
            "저희 가게 메뉴입니다 ['라멘', '하몬', '감바스', '카레', '파스타', '빠에야', '제로콜라']\n",
            "원하시는 메뉴를 선택해주세요 : 라멘\n",
            "선택하신 메뉴는 라멘 입니다.\n",
            "원하시는 수량을 선택해주세요 : 3\n",
            "주문해주셔서 감사합니다!\n",
            "배달 준비\n",
            "배달 중\n",
            "배달 완료\n",
            "맛있게 드세요!\n",
            "남은 재고 확인\n",
            "{'라멘': 7, '하몬': 15, '감바스': 20, '카레': 5, '파스타': 100, '빠에야': 0, '제로콜라': 25}\n",
            "==================================================\n",
            "음식 배달 서비스 입니다 반갑습니다!\n",
            "저희 가게 메뉴입니다 ['라멘', '하몬', '감바스', '카레', '파스타', '빠에야', '제로콜라']\n",
            "원하시는 메뉴를 선택해주세요 : 라멘\n",
            "선택하신 메뉴는 라멘 입니다.\n",
            "원하시는 수량을 선택해주세요 : 5\n",
            "주문해주셔서 감사합니다!\n",
            "배달 준비\n",
            "배달 중\n",
            "배달 완료\n",
            "맛있게 드세요!\n",
            "남은 재고 확인\n",
            "{'라멘': 2, '하몬': 15, '감바스': 20, '카레': 5, '파스타': 100, '빠에야': 0, '제로콜라': 25}\n",
            "==================================================\n",
            "음식 배달 서비스 입니다 반갑습니다!\n",
            "저희 가게 메뉴입니다 ['라멘', '하몬', '감바스', '카레', '파스타', '빠에야', '제로콜라']\n",
            "원하시는 메뉴를 선택해주세요 : 하몬\n",
            "선택하신 메뉴는 하몬 입니다.\n",
            "원하시는 수량을 선택해주세요 : 11\n",
            "주문해주셔서 감사합니다!\n",
            "배달 준비\n",
            "배달 중\n",
            "배달 완료\n",
            "맛있게 드세요!\n",
            "남은 재고 확인\n",
            "{'라멘': 2, '하몬': 4, '감바스': 20, '카레': 5, '파스타': 100, '빠에야': 0, '제로콜라': 25}\n"
          ]
        }
      ]
    },
    {
      "cell_type": "code",
      "source": [
        "from posixpath import split\n",
        "items = {\n",
        "    'pizza' : {\"count\":3, \"options\" : [\"갈릭 소스\", \"치즈 소스\", \"핫 소스\"], 'price' : 25000},\n",
        "    'chicken' : {\"count\":2, \"options\" : [\"반반\", \"순살\", \"소금\"], 'price' : 18000},\n",
        "}\n",
        "#############\n",
        "# 이름 : 가격\n",
        "\n",
        "print(\"#\"*30)\n",
        "for name, detail in items.items():\n",
        "  print(\"{}   {}\".format(name, detail['price']))\n",
        "print(\"#\"*30)\n",
        "customer_order = {}\n",
        "while True:\n",
        "  order = input(\"어떤 걸 주문하시겠어요?(q를 누르시면 주문 종료입니다) '제품 수량' 형식으로 입력해 주세요\")\n",
        "  if order =='q':break\n",
        "  print(order.strip().split(\" \"))\n",
        "  item_name, order_count = order.strip().split(\" \")\n",
        "  order_count = int(order_count)\n",
        "  if items[item_name]['count']<order_count:\n",
        "    print(\"재고가 부족합니다. {}개 까지 주문 가능합니다.\".format(items[item_name]['count']))\n",
        "    continue\n",
        "  customer_order[item_name] = order_count\n",
        "  print(customer_order)\n",
        "# 재고 업데이트 + 배송\n",
        "for order_name, order_count in customer_order.items():\n",
        "  items[order_name]['count'] -= order_count\n",
        "# 영수증\n",
        "print(\"*\"*20)\n",
        "print(\"영수증\")\n",
        "total_price = 0\n",
        "for order_name, order_count in customer_order.items():\n",
        "  print(\"제품명 : {} 단가 : {} 주문수량 : {} 합계 : {}\".format(order_name, items[order_name]['price'],order_count,items[order_name]['price']*order_count ))\n",
        "  total_price += items[order_name]['price']*order_count\n",
        "  print(f\"이만큼 돈 내셔야 돼요!! {total_price}\")\n",
        "print(\"*\"*20)\n",
        "print(\"배송준비 -> 배송중 -> 배송완료\")"
      ],
      "metadata": {
        "colab": {
          "base_uri": "https://localhost:8080/"
        },
        "id": "DEGIR0LZcBMc",
        "outputId": "39d7dfc6-c8b6-459e-eb02-52f8d0624cb2"
      },
      "execution_count": null,
      "outputs": [
        {
          "output_type": "stream",
          "name": "stdout",
          "text": [
            "##############################\n",
            "pizza   25000\n",
            "chicken   18000\n",
            "##############################\n",
            "어떤 걸 주문하시겠어요?(q를 누르시면 주문 종료입니다) '제품 수량' 형식으로 입력해 주세요pizza 2\n",
            "['pizza', '2']\n",
            "{'pizza': 2}\n",
            "어떤 걸 주문하시겠어요?(q를 누르시면 주문 종료입니다) '제품 수량' 형식으로 입력해 주세요chicken 1\n",
            "['chicken', '1']\n",
            "{'pizza': 2, 'chicken': 1}\n",
            "어떤 걸 주문하시겠어요?(q를 누르시면 주문 종료입니다) '제품 수량' 형식으로 입력해 주세요q\n",
            "********************\n",
            "영수증\n",
            "제품명 : pizza 단가 : 25000 주문수량 : 2 합계 : 50000\n",
            "이만큼 돈 내셔야 돼요!! 50000\n",
            "제품명 : chicken 단가 : 18000 주문수량 : 1 합계 : 18000\n",
            "이만큼 돈 내셔야 돼요!! 68000\n",
            "********************\n",
            "배송준비 -> 배송중 -> 배송완료\n"
          ]
        }
      ]
    },
    {
      "cell_type": "code",
      "source": [
        "# 피보나치 수열\n",
        "# 0 1 1 2 3\n",
        "# fibo[0, 1, 1, 2, ]\n",
        "# 사용자로부터 n 입력 -> n 번째 피보나치 수\n",
        "\n",
        "n = int(input(\"n: \"))\n",
        "\n",
        "# n번째 피보나치 수를 찾기\n",
        "fibo = [0, 1] # 0, 1 에 더 추가할 예정\n",
        "\n",
        "for i in range(2, n+1):  #fibo[n]\n",
        "\tfibo.append(fibo[i-2] + fibo[i-1])\n",
        "\n",
        "print(fibo[n])"
      ],
      "metadata": {
        "id": "9imufguZsbdP"
      },
      "execution_count": null,
      "outputs": []
    },
    {
      "cell_type": "code",
      "source": [
        "def is_prime(num):\n",
        "    if num < 2:  # 0과 1은 소수가 아닙니다.\n",
        "        return False\n",
        "    for i in range(2, int(num**0.5) + 1):\n",
        "        if num % i == 0:  # num이 i로 나누어지면 소수가 아닙니다.\n",
        "            return False\n",
        "    return True\n",
        "\n",
        "def print_primes(n):\n",
        "    primes = []\n",
        "    for num in range(2, n + 1):\n",
        "        if is_prime(num):\n",
        "            primes.append(num)\n",
        "    print(\"1부터 {}까지의 소수: {}\".format(n, primes))\n",
        "\n",
        "n = int(input(\"n을 입력하세요: \"))\n",
        "print_primes(n)\n"
      ],
      "metadata": {
        "id": "QheXnpLnnqv5"
      },
      "execution_count": null,
      "outputs": []
    },
    {
      "cell_type": "code",
      "source": [
        "def factorial(n):\n",
        "    if n == 0:  # 0!은 1입니다.\n",
        "        return 1\n",
        "    else:\n",
        "        return n * factorial(n - 1)\n",
        "\n",
        "n = int(input(\"n을 입력하세요: \"))\n",
        "result = factorial(n)\n",
        "print(\"{}의 팩토리얼은 {}입니다.\".format(n, result))\n"
      ],
      "metadata": {
        "colab": {
          "base_uri": "https://localhost:8080/"
        },
        "id": "D8_NsJKvslZq",
        "outputId": "0763ff07-81c4-48c2-9b46-61a49da73e6c"
      },
      "execution_count": null,
      "outputs": [
        {
          "output_type": "stream",
          "name": "stdout",
          "text": [
            "n을 입력하세요: 10\n",
            "10의 팩토리얼은 3628800입니다.\n"
          ]
        }
      ]
    },
    {
      "cell_type": "code",
      "source": [
        "MORSE_CODE = {\n",
        "    'A': '.-', 'B': '-...', 'C': '-.-.', 'D': '-..', 'E': '.', 'F': '..-.', 'G': '--.', 'H': '....', 'I': '..', 'J': '.---',\n",
        "    'K': '-.-', 'L': '.-..', 'M': '--', 'N': '-.', 'O': '---', 'P': '.--.', 'Q': '--.-', 'R': '.-.', 'S': '...', 'T': '-',\n",
        "    'U': '..-', 'V': '...-', 'W': '.--', 'X': '-..-', 'Y': '-.--', 'Z': '--..',\n",
        "    '0': '-----', '1': '.----', '2': '..---', '3': '...--', '4': '....-', '5': '.....', '6': '-....', '7': '--...', '8': '---..', '9': '----.'\n",
        "}\n",
        "\n",
        "def text_to_morse(text):\n",
        "    morse_code = []\n",
        "    for char in text.upper():\n",
        "        if char == ' ':\n",
        "            morse_code.append(' ')\n",
        "        elif char in MORSE_CODE:\n",
        "            morse_code.append(MORSE_CODE[char])\n",
        "    return ' '.join(morse_code)\n",
        "\n",
        "text = input(\"영문 텍스트를 입력하세요: \")\n",
        "result = text_to_morse(text)\n",
        "print(\"입력한 텍스트의 모스 부호 변환 결과: \", result)\n"
      ],
      "metadata": {
        "colab": {
          "base_uri": "https://localhost:8080/"
        },
        "id": "HIpfnWBVswBa",
        "outputId": "89e75c79-6c3f-4bc9-e177-a7d6932555ea"
      },
      "execution_count": null,
      "outputs": [
        {
          "output_type": "stream",
          "name": "stdout",
          "text": [
            "영문 텍스트를 입력하세요: C\n",
            "입력한 텍스트의 모스 부호 변환 결과:  -.-.\n"
          ]
        }
      ]
    },
    {
      "cell_type": "code",
      "source": [
        "def print_square(n):\n",
        "    for i in range(n):\n",
        "        print('*' * n)\n",
        "\n",
        "n = int(input(\"별의 크기를 입력하세요: \"))\n",
        "print_square(n)"
      ],
      "metadata": {
        "colab": {
          "base_uri": "https://localhost:8080/"
        },
        "id": "1HhkuaYXtBlI",
        "outputId": "2c9de447-bf88-4d21-8450-ad1986b3512b"
      },
      "execution_count": null,
      "outputs": [
        {
          "output_type": "stream",
          "name": "stdout",
          "text": [
            "별의 크기를 입력하세요: 5\n",
            "*****\n",
            "*****\n",
            "*****\n",
            "*****\n",
            "*****\n"
          ]
        }
      ]
    },
    {
      "cell_type": "code",
      "source": [
        "# 정윤 - 소수판별 문제풀이\n",
        "\n",
        "def isPrime(n):\n",
        "    for i in range(2, n):\n",
        "        if n % i == 0:\n",
        "            return False\n",
        "    return True\n",
        "\n",
        "n = int(input(\"n : \"))\n",
        "for i in range(1, n+1):\n",
        "    if isPrime(i):\n",
        "        print(i, end = \" \")"
      ],
      "metadata": {
        "colab": {
          "base_uri": "https://localhost:8080/"
        },
        "id": "Wve6i53zuAtk",
        "outputId": "301477a5-fcd5-4976-acd7-531566e12f92"
      },
      "execution_count": null,
      "outputs": [
        {
          "output_type": "stream",
          "name": "stdout",
          "text": [
            "n : 30\n",
            "1 2 3 5 7 11 13 17 19 23 29 "
          ]
        }
      ]
    },
    {
      "cell_type": "code",
      "source": [
        "def square_size(n):\n",
        "  for index in range(n):\n",
        "    print('*' * n)\n",
        "n = int(input(\"원하는 정사각형의 변을 입력하세요 : \"))\n",
        "square_size(n)"
      ],
      "metadata": {
        "colab": {
          "base_uri": "https://localhost:8080/"
        },
        "id": "038VrWov5GQK",
        "outputId": "108821a4-22d0-47f7-f87c-0509fb3425ab"
      },
      "execution_count": null,
      "outputs": [
        {
          "output_type": "stream",
          "name": "stdout",
          "text": [
            "원하는 정사각형의 변을 입력하세요 : 5\n",
            "*****\n",
            "*****\n",
            "*****\n",
            "*****\n",
            "*****\n"
          ]
        }
      ]
    },
    {
      "cell_type": "code",
      "source": [
        "morse_code = {\n",
        "    'A': '.-', 'B': '-...', 'C': '-.-.', 'D': '-..', 'E': '.', 'F': '..-.', 'G': '--.', 'H': '....',\n",
        "    'I': '..', 'J': '.---', 'K': '-.-', 'L': '.-..', 'M': '--', 'N': '-.', 'O': '---', 'P': '.--.',\n",
        "    'Q': '--.-', 'R': '.-.', 'S': '...', 'T': '-', 'U': '..-', 'V': '...-', 'W': '.--', 'X': '-..-',\n",
        "    'Y': '-.--', 'Z': '--..'\n",
        "}\n",
        "print(\"입력받은 알파벳을 모스부호로 변환합니다 \")\n",
        "n = input(\"원하시는 알파벳을 입력해주세요 : \")\n"
      ],
      "metadata": {
        "id": "unTMflkZ94w9"
      },
      "execution_count": null,
      "outputs": []
    },
    {
      "cell_type": "code",
      "source": [
        "morse_code = {\n",
        "    'A': '.-', 'B': '-...', 'C': '-.-.', 'D': '-..', 'E': '.', 'F': '..-.', 'G': '--.', 'H': '....',\n",
        "    'I': '..', 'J': '.---', 'K': '-.-', 'L': '.-..', 'M': '--', 'N': '-.', 'O': '---', 'P': '.--.',\n",
        "    'Q': '--.-', 'R': '.-.', 'S': '...', 'T': '-', 'U': '..-', 'V': '...-', 'W': '.--', 'X': '-..-',\n",
        "    'Y': '-.--', 'Z': '--..'\n",
        "}\n",
        "\n",
        "# 예시: 모스 부호로 변환하기\n",
        "def translater():\n",
        "  print(\"입력받은 알파벳을 모스부호로 변환합니다 \")\n",
        "  message = input(\"원하시는 알파벳을 입력해주세요 : \")\n",
        "  encoded_message = \" \".join([morse_code[char] for char in message])\n",
        "print(encoded_message)\n"
      ],
      "metadata": {
        "colab": {
          "base_uri": "https://localhost:8080/"
        },
        "id": "e_cRYrCO_HmV",
        "outputId": "2f6bae62-c1d9-41db-87c6-fe279ed7be25"
      },
      "execution_count": null,
      "outputs": [
        {
          "output_type": "stream",
          "name": "stdout",
          "text": [
            "입력받은 알파벳을 모스부호로 변환합니다 \n",
            "원하시는 알파벳을 입력해주세요 : SA\n",
            "... .-\n"
          ]
        }
      ]
    },
    {
      "cell_type": "code",
      "source": [
        "name = 'John'\n",
        "age = 30\n",
        "print('Hello, %s You are %d years old.'%(name,age))"
      ],
      "metadata": {
        "colab": {
          "base_uri": "https://localhost:8080/"
        },
        "id": "twl09GiO_xYF",
        "outputId": "f1c48f29-4413-4539-ca4a-dbc4566b234f"
      },
      "execution_count": null,
      "outputs": [
        {
          "output_type": "stream",
          "name": "stdout",
          "text": [
            "Hello, John You are 30 years old.\n"
          ]
        }
      ]
    },
    {
      "cell_type": "code",
      "source": [
        "name = 'Chamchis'\n",
        "age = 592\n",
        "print('My name is %s and %d years old, Nice to meet you! ' %(name,age))"
      ],
      "metadata": {
        "colab": {
          "base_uri": "https://localhost:8080/"
        },
        "id": "syxZJVh8BQQ9",
        "outputId": "c45722c2-48e1-4742-99a0-944180e6ac31"
      },
      "execution_count": null,
      "outputs": [
        {
          "output_type": "stream",
          "name": "stdout",
          "text": [
            "My name is Chamchis and 592 years old, Nice to meet you! \n"
          ]
        }
      ]
    },
    {
      "cell_type": "code",
      "source": [
        "number = 3.141592\n",
        "print(\"소수 : %f\" %number)\n",
        "print(\"소수 (소수점 둘째 자리): %.2f\" %number)"
      ],
      "metadata": {
        "colab": {
          "base_uri": "https://localhost:8080/"
        },
        "id": "DII1utmcBZzj",
        "outputId": "b2d7d28d-59c0-4094-c4b6-ec7921f93dc6"
      },
      "execution_count": null,
      "outputs": [
        {
          "output_type": "stream",
          "name": "stdout",
          "text": [
            "소수 : 3.141592\n",
            "소수 (소수점 둘째 자리): 3.14\n"
          ]
        }
      ]
    },
    {
      "cell_type": "code",
      "source": [
        "name = 'Chamchis'\n",
        "age = 92\n",
        "print(\"Hello, My name is {0} and {0} years old, Nice to meet you Suck man!\".format(name,age))"
      ],
      "metadata": {
        "colab": {
          "base_uri": "https://localhost:8080/"
        },
        "id": "JqSC6AoZBoXi",
        "outputId": "f8d427c1-ca5b-4098-f830-483c79b861b5"
      },
      "execution_count": null,
      "outputs": [
        {
          "output_type": "stream",
          "name": "stdout",
          "text": [
            "Hello, My name is Chamchis and Chamchis years old, Nice to meet you Suck man!\n"
          ]
        }
      ]
    },
    {
      "cell_type": "code",
      "source": [
        "def say_GoodBye():\n",
        "  print(\"Hello Python! \")\n",
        "say_GoodBye()"
      ],
      "metadata": {
        "colab": {
          "base_uri": "https://localhost:8080/"
        },
        "id": "HYuhhvHvB7R2",
        "outputId": "c832380b-b405-4410-c7f2-429a3d726a7e"
      },
      "execution_count": null,
      "outputs": [
        {
          "output_type": "stream",
          "name": "stdout",
          "text": [
            "Hello Python! \n"
          ]
        }
      ]
    },
    {
      "cell_type": "code",
      "source": [
        "def learn5(a,b):\n",
        "  return a+b\n",
        "result = learn5(20,4)\n",
        "print(result)"
      ],
      "metadata": {
        "colab": {
          "base_uri": "https://localhost:8080/"
        },
        "id": "tDM4n0lyCAaR",
        "outputId": "d1fc2376-a148-4615-b525-d12a61cacda8"
      },
      "execution_count": null,
      "outputs": [
        {
          "output_type": "stream",
          "name": "stdout",
          "text": [
            "24\n"
          ]
        }
      ]
    },
    {
      "cell_type": "code",
      "source": [
        "muti = lambda num1,num2 : num1+num2\n",
        "print(muti(40,50))"
      ],
      "metadata": {
        "colab": {
          "base_uri": "https://localhost:8080/"
        },
        "id": "VjatxN-FCWC6",
        "outputId": "44b809c7-9f79-48be-ec5a-e18a8ef2094a"
      },
      "execution_count": null,
      "outputs": [
        {
          "output_type": "stream",
          "name": "stdout",
          "text": [
            "90\n"
          ]
        }
      ]
    },
    {
      "cell_type": "code",
      "source": [
        "def square_list(numbers):\n",
        "  return [num1 ** 2 for num2 in numbers]\n",
        "print(square_list"
      ],
      "metadata": {
        "id": "sl09dbxkCoD9"
      },
      "execution_count": null,
      "outputs": []
    }
  ]
}